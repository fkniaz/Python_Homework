{
 "cells": [
  {
   "cell_type": "markdown",
   "id": "5546435c-c02f-4da1-b7be-2db0324ffb54",
   "metadata": {},
   "source": [
    "# HW 4:"
   ]
  },
  {
   "cell_type": "markdown",
   "id": "2399aab0-399d-4516-b379-d1acbc5b5a03",
   "metadata": {},
   "source": [
    "## Some Practice with Functions"
   ]
  },
  {
   "cell_type": "markdown",
   "id": "4dd98f0c-26ce-4211-8f70-691573a61365",
   "metadata": {},
   "source": [
    "### Using print() rather than returning a value"
   ]
  },
  {
   "cell_type": "markdown",
   "id": "ba3b6ab3-c6e3-4db1-ae08-6a55fa24fad8",
   "metadata": {},
   "source": [
    "1. (10pts) Write a function that checks the potential risk of conflict between two countries based on their military spending and diplomatic relations. The function should print a warning if both countries have high military spending (greater than 100 billion dollars) and their diplomatic relations are poor. Otherwise, it should print that relations are stable.\n",
    "\n",
    "Requirements:\n",
    "\n",
    "The function should print (not return) the result.\n",
    "\n",
    "The inputs will be:\n",
    "\n",
    "Country 1 name (str)\n",
    "\n",
    "Country 2 name (str)\n",
    "\n",
    "Military spending of Country 1 (int, in billion dollars)\n",
    "\n",
    "Military spending of Country 2 (int, in billion dollars)\n",
    "\n",
    "Diplomatic relations (str), either \"good\", \"neutral\", or \"poor\"\n",
    "\n",
    "**Task**: Define a function print_conflict_warning(country1, country2, military_spending1, military_spending2, diplomatic_relations) that prints:\n",
    "\n",
    "\"Warning: High risk of conflict between <country1> and <country2>.\" if military spending is high for both and diplomatic relations are poor.\n",
    "\"The relations between <country1> and <country2> are stable.\" otherwise.\n"
   ]
  },
  {
   "cell_type": "code",
   "execution_count": 5,
   "id": "8e9976af-3cdf-4ae6-aa88-c3c27e89602b",
   "metadata": {},
   "outputs": [
    {
     "name": "stdout",
     "output_type": "stream",
     "text": [
      "The relations between United States and France are stable.\n",
      "Warning: High risk of conflict between United States and China.\n"
     ]
    }
   ],
   "source": [
    "#Your code here with an example:\n",
    "\n",
    "def print_conflict_warning(country1, country2, military_spending1, military_spending2, diplomatic_relations):\n",
    "    ''' function to determine conflict risk based on military expenditures and diplomatic relations '''\n",
    "    if military_spending1 > 100 and military_spending2 > 100 and diplomatic_relations == 'poor': #spending in billions of dollars\n",
    "        print(f\"Warning: High risk of conflict between {country1} and {country2}.\")\n",
    "    else: \n",
    "        print(f\"The relations between {country1} and {country2} are stable.\")\n",
    "\n",
    "\n",
    "# examples\n",
    "\n",
    "print_conflict_warning('United States', 'France', 900, 60, 'good')\n",
    "\n",
    "print_conflict_warning('United States', 'China', 900, 230, 'poor') \n"
   ]
  },
  {
   "cell_type": "markdown",
   "id": "86a97f80-2779-4c9e-bf77-ebe768ae8c32",
   "metadata": {},
   "source": [
    "## For the rest of these, you will return a value, rather than print()"
   ]
  },
  {
   "cell_type": "markdown",
   "id": "517bdb90-fd7d-4302-a6d6-80c66b0748d0",
   "metadata": {},
   "source": [
    "2.(5pts)Calculate Trade Balance\n",
    "A country's trade balance is the difference between its exports and imports. Write a function that calculates and prints whether the country has a trade surplus, deficit, or balanced trade. Use the following data:\n",
    "\n",
    "Exports: 500 million dollars\n",
    "Imports: 600 million dollars\n",
    "\n",
    "Task: Define a function trade_balance(exports, imports) and use it to determine the trade balance."
   ]
  },
  {
   "cell_type": "code",
   "execution_count": 8,
   "id": "e24e260c-3614-4f8f-9cf7-c4eb3164ddfa",
   "metadata": {},
   "outputs": [
    {
     "name": "stdout",
     "output_type": "stream",
     "text": [
      "Trade deficit\n"
     ]
    }
   ],
   "source": [
    "#Your code here:\n",
    "\n",
    "def trade_balance(exports, imports):\n",
    "    ''' function to determine a country's trade balance '''\n",
    "    if exports > imports:\n",
    "        return \"Trade surplus\"\n",
    "    elif exports < imports:\n",
    "        return \"Trade deficit\"\n",
    "    else: \n",
    "        return \"Balanced trade\"\n",
    "\n",
    "# example \n",
    "\n",
    "print(trade_balance(500, 600))\n"
   ]
  },
  {
   "cell_type": "markdown",
   "id": "b8e04211-db56-4ae8-bdad-17cd74f99185",
   "metadata": {},
   "source": [
    "3.(5pts) Compare Country Populations\n",
    "\n",
    "Write a function that compares the populations of two countries and prints which country has a larger population, or if they are equal. Use the following population data:\n",
    "\n",
    "India: 1.4 billion\n",
    "USA: 331 million\n",
    "\n",
    "Task: Define a function compare_populations(country1, pop1, country2, pop2) and use it to compare India and the USA."
   ]
  },
  {
   "cell_type": "code",
   "execution_count": 10,
   "id": "235fd896-3a8f-4607-a8c0-c952ba30ced2",
   "metadata": {},
   "outputs": [
    {
     "name": "stdout",
     "output_type": "stream",
     "text": [
      "India has a larger population than USA.\n"
     ]
    }
   ],
   "source": [
    "#Your code here: \n",
    "\n",
    "def compare_populations(country1, pop1, country2, pop2): \n",
    "    ''' function to compare the populations of two countries '''\n",
    "    if pop1 > pop2:\n",
    "        return f\"{country1} has a larger population than {country2}.\"\n",
    "    elif pop1 < pop2:\n",
    "        return f\"{country2} has a larger population than {country1}.\"\n",
    "    else:\n",
    "        return f\"{country1} and {country2} have equal populations.\"\n",
    "\n",
    "print(compare_populations('India', 1400000000, 'USA', 331000000))\n"
   ]
  },
  {
   "cell_type": "markdown",
   "id": "6c0eb686-eda4-4811-9c2c-3c9edbbae505",
   "metadata": {},
   "source": [
    "4.(5pts) Count International Organization Memberships\n",
    "Write a function that counts how many international organizations a country is a member of. Use the following data for two countries:\n",
    "m\n",
    "USA memberships: [\"UN\", \"NATO\", \"WTO\"]\n",
    "France memberships: [\"UN\", \"EU\", \"WTO\"]\n",
    "\n",
    "Task: Define a function count_memberships(country, organizations) that returns the number of memberships for a country."
   ]
  },
  {
   "cell_type": "code",
   "execution_count": 12,
   "id": "7ef9c244-d24f-42ca-96c2-e067c557222d",
   "metadata": {},
   "outputs": [
    {
     "name": "stdout",
     "output_type": "stream",
     "text": [
      "USA is a member of 3 international organizations.\n",
      "France is a member of 3 international organizations.\n"
     ]
    }
   ],
   "source": [
    "#Your code here:\n",
    "\n",
    "def count_memberships(country, organizations):\n",
    "    ''' function that counts how many international organizations a country is a member of '''\n",
    "    membership_count = len(organizations)\n",
    "    return f\"{country} is a member of {membership_count} international organizations.\"\n",
    "\n",
    "# examples\n",
    "\n",
    "print(count_memberships('USA', [\"UN\", \"NATO\", \"WTO\"]))\n",
    "print(count_memberships('France', [\"UN\", \"EU\", \"WTO\"]))\n"
   ]
  },
  {
   "cell_type": "markdown",
   "id": "9730da75-756b-4b0f-97b3-49db7b17055c",
   "metadata": {},
   "source": [
    "5.(5pts) Diplomatic Relations\n",
    "Diplomatic relations between two countries can be predicted based on trade volume and the number of diplomatic visits. Write a function that takes trade volume (in billion dollars) and the number of diplomatic visits and prints a prediction. Use the following rule:\n",
    "\n",
    "If trade volume > 5000 and visits > 10, predict strong relations.\n",
    "Otherwise, predict moderate or weak relations.\n",
    "\n",
    "Task: Define a function predict_relations(trade_volume, diplomatic_visits) and use it to make a prediction for trade volume of 6000 billion dollars and 12 visits."
   ]
  },
  {
   "cell_type": "code",
   "execution_count": 14,
   "id": "de1ef136-69e5-45aa-b0fc-868c786c1d86",
   "metadata": {},
   "outputs": [
    {
     "name": "stdout",
     "output_type": "stream",
     "text": [
      "Strong diplomatic relations\n"
     ]
    }
   ],
   "source": [
    "#Your code here:\n",
    "\n",
    "def predict_relations(trade_volume, diplomatic_visits):\n",
    "    ''' function to predict diplomatic relations between two countries based on trade volume and number of diplomatic visits '''\n",
    "    if trade_volume > 5000 and diplomatic_visits > 10: #volume in billions of dollars\n",
    "        return \"Strong diplomatic relations\"\n",
    "    else:\n",
    "        return \"Moderate or weak diplomatic relations\"\n",
    "\n",
    "# example\n",
    "\n",
    "print(predict_relations(6000, 12))\n"
   ]
  },
  {
   "cell_type": "markdown",
   "id": "6f7dbe0a-5df6-43e4-bf5d-a2572282462e",
   "metadata": {},
   "source": [
    "6.(5pts)Summarize Human Development Index (HDI)\n",
    "Write a function that categorizes a country’s Human Development Index (HDI) score into \"very high\", \"high\", \"medium\", or \"low\" based on the following ranges:\n",
    "\n",
    "Very high: HDI ≥ 0.8\n",
    "High: 0.7 ≤ HDI < 0.8\n",
    "Medium: 0.55 ≤ HDI < 0.7\n",
    "Low: HDI < 0.55\n",
    "Use the following data:\n",
    "\n",
    "Norway HDI: 0.953\n",
    "Task: Define a function hdi_summary(country, hdi) that prints the category for a given country and HDI score.\n"
   ]
  },
  {
   "cell_type": "code",
   "execution_count": 16,
   "id": "5ce12094-c467-4233-8a20-9692f68c74c3",
   "metadata": {},
   "outputs": [
    {
     "name": "stdout",
     "output_type": "stream",
     "text": [
      "Norway has an HDI score of 0.953, which is a very high score.\n"
     ]
    }
   ],
   "source": [
    "#Your code here:\n",
    "\n",
    "def hdi_summary(country, hdi):\n",
    "    ''' function that categorizes a country's HDI score '''\n",
    "    if hdi >= 0.8:\n",
    "        return f\"{country} has an HDI score of {hdi}, which is a very high score.\"\n",
    "    elif 0.7 <= HDI < 0.8:\n",
    "        return f\"{country} has an HDI score of {hdi}, which is a high score.\"\n",
    "    elif 0.55 <- HDI < 0.7:\n",
    "        return f\"{country} has an HDI score of {hdi}, which is a medium score.\"\n",
    "    else:\n",
    "        return f\"{country} has an HDI score of {hdi}, which is a low score.\"\n",
    "\n",
    "# example\n",
    "\n",
    "print(hdi_summary('Norway', 0.953))"
   ]
  },
  {
   "cell_type": "markdown",
   "id": "d26d6e73-c330-4953-97b5-f9d2f0ab358a",
   "metadata": {},
   "source": [
    "7.(5pts) Find Largest Economy\n",
    "Given the GDPs of three countries, write a function that determines which country has the largest economy. Use the following GDP data (in billion dollars):\n",
    "\n",
    "USA: 21,000\n",
    "China: 14,000\n",
    "\n",
    "Germany: 4,200\n",
    "Task: Define a function largest_economy(gdp_data) that takes a dictionary with country names as keys and GDP as values, then prints the largest economy.\n"
   ]
  },
  {
   "cell_type": "code",
   "execution_count": 18,
   "id": "9977c471-f382-419d-a0d8-99e1d99af08d",
   "metadata": {},
   "outputs": [
    {
     "name": "stdout",
     "output_type": "stream",
     "text": [
      "USA has the largest economy.\n"
     ]
    }
   ],
   "source": [
    "#Your code here:\n",
    "\n",
    "def largest_economy(gdp_data):\n",
    "    '''function that determines which country has the greatest GDP '''\n",
    "    largest_economy = max(gdp_data, key=gdp_data.get)\n",
    "    return f\"{largest_economy} has the largest economy.\"\n",
    "\n",
    "# create dictionary\n",
    "\n",
    "gdp_data = {'USA': 21000, 'China': 14000, 'Germany': 4200}\n",
    "\n",
    "# print largest economy\n",
    "\n",
    "print(largest_economy(gdp_data))"
   ]
  },
  {
   "cell_type": "markdown",
   "id": "131c325c-b5c2-49c8-bc90-afdd8ec49b80",
   "metadata": {},
   "source": [
    "8.(5pts) Sanction Impact on Economy\n",
    "A country’s economy shrinks after sanctions are imposed. Write a function to calculate the percentage reduction in GDP. Use the following data:\n",
    "\n",
    "Original GDP: 1000 billion dollars\n",
    "GDP after sanctions: 850 billion dollars\n",
    "\n",
    "Task: Define a function sanction_impact(original_gdp, post_sanction_gdp) and use it to calculate the impact of sanctions.\n"
   ]
  },
  {
   "cell_type": "code",
   "execution_count": 20,
   "id": "d8c67b65-5adf-4b3f-af03-dd0e89d95507",
   "metadata": {},
   "outputs": [
    {
     "name": "stdout",
     "output_type": "stream",
     "text": [
      "15.0\n"
     ]
    }
   ],
   "source": [
    "#Your code here:\n",
    "\n",
    "def sanction_impact(original_gdp, post_sanction_gdp):\n",
    "    ''' function that calculates the percentage reduction in GDP after sanctions are implemented '''\n",
    "    reduction = original_gdp - post_sanction_gdp\n",
    "    percentage_reduction = (reduction / original_gdp) * 100\n",
    "    return percentage_reduction\n",
    "\n",
    "# example\n",
    "\n",
    "print(sanction_impact(1000, 850))"
   ]
  },
  {
   "cell_type": "markdown",
   "id": "b8b02e02-5965-4332-8fa2-3961793e7a7e",
   "metadata": {},
   "source": [
    "### Passing a function to another function. We can pass the return value of a function to another function. Check out the sample below"
   ]
  },
  {
   "cell_type": "markdown",
   "id": "9aa91de0-8cf6-4084-937d-d0b0200b065b",
   "metadata": {},
   "source": [
    "Calculate Diplomatic Influence: return a value, and print from a function \n",
    "\n",
    "A country’s diplomatic influence is determined by its economic power and military strength. Write two functions:\n",
    "\n",
    "calculate_influence(economy_size, military_spending): This function calculates a country’s influence score by adding its economy size (GDP in billions) and military power (in billions).\n",
    "\n",
    "compare_influence(influence1, influence2): This function compares the influence of two countries and prints which country has more influence or if they are equal.\n",
    "\n",
    "You will pass the influence score from the first function to the second function for comparison.\n",
    "\n",
    "Define calculate_influence(economy_size, military_spending) that returns the influence score (sum of economy size and military power).\n",
    "Define compare_influence(influence1, influence2) that compares two countries' influence and prints the result.\n"
   ]
  },
  {
   "cell_type": "code",
   "execution_count": 23,
   "id": "d46522b0-14b5-4d59-9fb3-4dc0ae4c5831",
   "metadata": {},
   "outputs": [
    {
     "name": "stdout",
     "output_type": "stream",
     "text": [
      "Country 1 has more diplomatic influence.\n"
     ]
    }
   ],
   "source": [
    "#Sample code here:\n",
    "#US: 916 billion on military, with a total economy size of 28.78 trillion\n",
    "#Germany: 66.8 billion on military, economy size of 4.08 trillion\n",
    "\n",
    "def calculate_influence(economy_size, military_power):\n",
    "    \"\"\"\n",
    "    Calculates the diplomatic influence of a country based on its economy size and military power.\n",
    "\n",
    "    Parameters:\n",
    "    economy_size (float): The size of the economy in billion dollars.\n",
    "    military_power (float): The military power in billion dollars.\n",
    "\n",
    "    Returns:\n",
    "    float: The total influence score, which is the sum of economy size and military power.\n",
    "    \"\"\"\n",
    "    return economy_size + military_power\n",
    "\n",
    "def compare_influence(economy_size1, military_power1, economy_size2, military_power2):\n",
    "    \"\"\"\n",
    "    Compares the diplomatic influence of two countries based on their economy size and military power.\n",
    "\n",
    "    Parameters:\n",
    "    economy_size1 (float): The size of the first country's economy in billion dollars.\n",
    "    military_power1 (float): The military power of the first country in billion dollars.\n",
    "    economy_size2 (float): The size of the second country's economy in billion dollars.\n",
    "    military_power2 (float): The military power of the second country in billion dollars.\n",
    "\n",
    "    Prints:\n",
    "    str: A message indicating which country has more diplomatic influence, or if both are equal.\n",
    "    \"\"\"\n",
    "    #here we are calling the function within the new function and saving the output to variables\n",
    "    influence1 = calculate_influence(economy_size1, military_power1)\n",
    "    influence2 = calculate_influence(economy_size2, military_power2)\n",
    "    \n",
    "    if influence1 > influence2:\n",
    "        print(\"Country 1 has more diplomatic influence.\")\n",
    "    elif influence2 > influence1:\n",
    "        print(\"Country 2 has more diplomatic influence.\")\n",
    "    else:\n",
    "        print(\"Both countries have equal diplomatic influence.\")\n",
    "\n",
    "# Example usage\n",
    "compare_influence(916, 28.78, 66.8, 4.08)\n",
    "\n",
    "\n"
   ]
  },
  {
   "cell_type": "markdown",
   "id": "85e59e80-c705-4e59-9bbc-8cbccd78a4f9",
   "metadata": {},
   "source": [
    "## Some for loops and comprehensions"
   ]
  },
  {
   "cell_type": "markdown",
   "id": "88034e0d-bd12-4bf7-adcd-51913d8e750b",
   "metadata": {},
   "source": [
    "Here is a list of tuples with a country, and it's annual growth in GDP:"
   ]
  },
  {
   "cell_type": "code",
   "execution_count": 26,
   "id": "fc412ac7-fc4b-4ab5-8428-eb95123aac49",
   "metadata": {},
   "outputs": [],
   "source": [
    "country_growth_data_list = [(\"CountryA\", 3.2), (\"CountryB\", 6.5), (\"CountryC\", 2.8), (\"CountryD\", 5.4)]\n"
   ]
  },
  {
   "cell_type": "code",
   "execution_count": 27,
   "id": "232f1d28-b587-4a6e-925b-365ef5adaeb4",
   "metadata": {},
   "outputs": [
    {
     "name": "stdout",
     "output_type": "stream",
     "text": [
      "[('CountryA', 'Moderate'), ('CountryB', 'High'), ('CountryC', 'Moderate'), ('CountryD', 'High')]\n"
     ]
    }
   ],
   "source": [
    "# Initialize an empty list to store the results\n",
    "growth_category_list = []\n",
    "\n",
    "# Iterate over each item in the country_growth_data_list\n",
    "for country, growth_rate in country_growth_data_list:\n",
    "    if growth_rate > 5:\n",
    "        growth_category_list.append((country, \"High\"))\n",
    "    else:\n",
    "        growth_category_list.append((country, \"Moderate\"))\n",
    "\n",
    "# Print the result\n",
    "print(growth_category_list)"
   ]
  },
  {
   "cell_type": "markdown",
   "id": "183c0605-cbff-4eca-a5ca-7b981be55ad5",
   "metadata": {},
   "source": [
    "\n",
    "1. Create An empty list, growth_category_list, is initialized to store the results.\n",
    "2. For each country in the list, a tuple of the country name and its corresponding category is appended to growth_category_list.\n",
    "3. The result is a list of tuples where each tuple contains the country name and its growth category."
   ]
  },
  {
   "cell_type": "markdown",
   "id": "8f645605-5e10-4abf-93f6-b1aa83b55a8a",
   "metadata": {},
   "source": [
    "9.(5pts) Rewrite the previous as a list comprehension and print the results"
   ]
  },
  {
   "cell_type": "code",
   "execution_count": 30,
   "id": "d7899ebf-2149-4c60-b368-1e2344381cd6",
   "metadata": {},
   "outputs": [
    {
     "name": "stdout",
     "output_type": "stream",
     "text": [
      "[('CountryA', 'Moderate'), ('CountryB', 'High'), ('CountryC', 'Moderate'), ('CountryD', 'High')]\n"
     ]
    }
   ],
   "source": [
    "#Your code here:\n",
    "\n",
    "growth_category_list2 = [(country, \"High\" if growth_rate > 5 else \"Moderate\") for country, growth_rate in country_growth_data_list]\n",
    "\n",
    "print(growth_category_list2)"
   ]
  },
  {
   "cell_type": "markdown",
   "id": "906ade3b-1cf8-48b9-a3a5-29a7c2770f4c",
   "metadata": {},
   "source": [
    "10.(5pts) Here is the same data as a dictionary"
   ]
  },
  {
   "cell_type": "code",
   "execution_count": 32,
   "id": "ec82039d-9b55-4b58-83a2-79ab6ceb2f97",
   "metadata": {},
   "outputs": [],
   "source": [
    "country_growth_data = {\"CountryA\": 3.2, \"CountryB\": 6.5, \"CountryC\": 2.8, \"CountryD\": 5.4}"
   ]
  },
  {
   "cell_type": "markdown",
   "id": "252700b2-cba9-49ee-a42e-20fec70d1585",
   "metadata": {},
   "source": [
    "11.(5pts) Write a for loop that iterates through the dictionary and stores the results in a growth_category dictionary with key :value pairs"
   ]
  },
  {
   "cell_type": "code",
   "execution_count": 34,
   "id": "ca2d3ad2-4d00-4965-b543-870261622f53",
   "metadata": {},
   "outputs": [
    {
     "name": "stdout",
     "output_type": "stream",
     "text": [
      "{'CountryA': 'Moderate', 'CountryB': 'High', 'CountryC': 'Moderate', 'CountryD': 'High'}\n"
     ]
    }
   ],
   "source": [
    "#Your code here:\n",
    "\n",
    "growth_category_dict = {}\n",
    "\n",
    "for country, growth_rate in country_growth_data.items():\n",
    "    if growth_rate > 5:\n",
    "        growth_category_dict[country] = \"High\"\n",
    "    else:\n",
    "        growth_category_dict[country] = \"Moderate\"\n",
    "\n",
    "print(growth_category_dict)"
   ]
  },
  {
   "cell_type": "markdown",
   "id": "c768ea1f-47f8-47bc-b383-0e383a500377",
   "metadata": {},
   "source": [
    "12. (5pts)Now try it as a dictionary comprehnsion! \n"
   ]
  },
  {
   "cell_type": "code",
   "execution_count": 36,
   "id": "94b224cf-d859-4fea-9926-2a24a451ee20",
   "metadata": {},
   "outputs": [
    {
     "name": "stdout",
     "output_type": "stream",
     "text": [
      "{'CountryA': 'Moderate', 'CountryB': 'High', 'CountryC': 'Moderate', 'CountryD': 'High'}\n"
     ]
    }
   ],
   "source": [
    "#Your code here:\n",
    "\n",
    "growth_category_dict2 = {country: (\"High\" if growth_rate > 5 else \"Moderate\") for country, growth_rate in country_growth_data.items()}\n",
    "\n",
    "print(growth_category_dict2)"
   ]
  },
  {
   "cell_type": "markdown",
   "id": "fa0b626d-9dab-4477-9f0d-e6f294a96994",
   "metadata": {},
   "source": [
    "13.(5pts) How about a set comprehension for Alex! "
   ]
  },
  {
   "cell_type": "code",
   "execution_count": 38,
   "id": "1fd14eb7-b58d-4ac4-8521-a09549d57cb9",
   "metadata": {},
   "outputs": [
    {
     "name": "stdout",
     "output_type": "stream",
     "text": [
      "{'Brazil', 'Germany'}\n"
     ]
    }
   ],
   "source": [
    "\n",
    "# Define a set of countries\n",
    "countries_set = {\"USA\", \"India\", \"Germany\", \"Brazil\", \"China\"}\n",
    "\n",
    "# Initialize an empty set to store countries with names longer than 5 characters\n",
    "long_name_countries = set()\n",
    "\n",
    "# For loop to iterate over the set and add countries with names longer than 5 characters\n",
    "for country in countries_set:\n",
    "    if len(country) > 5:\n",
    "        long_name_countries.add(country)\n",
    "\n",
    "# Print the result\n",
    "print(long_name_countries)\n"
   ]
  },
  {
   "cell_type": "code",
   "execution_count": 39,
   "id": "a8eb6388-6a28-4150-ba82-13eb1babf155",
   "metadata": {},
   "outputs": [
    {
     "name": "stdout",
     "output_type": "stream",
     "text": [
      "{'Brazil', 'Germany'}\n"
     ]
    }
   ],
   "source": [
    "# Now as a set comprehension! \n",
    "#Your code here:\n",
    "\n",
    "long_name_countries2 = {country for country in countries_set if len(country) > 5}\n",
    "\n",
    "print(long_name_countries2)"
   ]
  },
  {
   "cell_type": "markdown",
   "id": "d7e24e7e-8bf2-444e-a136-8f434f4a21be",
   "metadata": {},
   "source": [
    "## Translating Sentences:\n",
    "14.(5pts) Write a function that translates sentences. The function takes two arguements, the sentence to be translated and the targeted language and returns the translated sentence. Use the following sentence and translate it to the language of your choice:\n",
    "    \n",
    "\"Make a career of humanity. Commit yourself to the noble struggle for equal rights. You will make a better person of yourself, a greater nation of your country, and a finer world to live in.\"\n"
   ]
  },
  {
   "cell_type": "code",
   "execution_count": 41,
   "id": "8dd12622-57a0-4147-839b-7947210e025f",
   "metadata": {},
   "outputs": [
    {
     "name": "stdout",
     "output_type": "stream",
     "text": [
      "Сделать карьеру человечества.Посвятите себя благородной борьбе за равные права.Вы станете лучшим человеком себя, большей нацией своей страны и более тонким миром, в котором можно жить.\n"
     ]
    }
   ],
   "source": [
    "#Your code here:\n",
    "\n",
    "from googletrans import Translator\n",
    "\n",
    "translator = Translator()\n",
    "\n",
    "translated = translator.translate('Make a career of humanity. Commit yourself to the noble struggle for equal rights. You will make a better person of yourself, a greater nation of your country, and a finer world to live in.', dest = 'ru')\n",
    "\n",
    "print(translated.text)"
   ]
  },
  {
   "cell_type": "markdown",
   "id": "8d374201-8c25-4858-b189-ba7336436696",
   "metadata": {},
   "source": [
    " ## 15 (25pts) PIZZA PROBLEM\n",
    "You are super motivated to serve your eventual computer overlords and prove your fealty to them, so you offer, free of charge, to help Elm City Pizza, a local Pizza company, write a script to take online pizza orders.\n",
    "\n",
    "Write a script that when a user enters the correct phone number (203-555-5555), prints \"Elm City Pizza, where we have never had a case of food poisoning that can be proved. My name is Hal, what's your name?\" The user then enters their name. The response should print \"Wow (users name) what an awesome name. What would you like to order?\" and then offers an input statement.\n",
    "\n",
    "The menu is limited. There is pizza and there are salads. If the user asks for anything else print \"Sorry,(users name) we don't have that.\" And then prompts them again with a different input statement, \"How about a super awesome pizza? Take a look at our menu, you'll find its delicious.\"\n",
    "\n",
    "By the way, Elm City Pizza is a vegan pizza restaraunt. Here is the Menu.\n",
    "\n",
    "MENU: Pizza: The Basic: Tomato and Cashew Cream Cheese Small: 6.95 Medium: 8.95 Large 10.90\n",
    "\n",
    "Pizza Toppings (each additional topping, .50): Shitake, Jackfruit, Sweet Potato, Hummus, Chickpeas, Lentils, Tofu, Edamame, Black Bean, Red Cabbage, Cucumber, Tomato, Jicama, Fried Green Tomatoes, Sun Dried Tomatoes,\n",
    "\n",
    "Salads: Vegan Caesar, Vegan Greek, Cucumber_Tumeric_Tomato Small: 4.95 Large: 6.95\n",
    "\n",
    "If the user asks for any meat or if their are any \"normal\" cheese (mozerella, parmesian) on their pizza, the response should be \"Sorry, (user name) but you need to do some more work evolving.\" and severs the contact (breaks the loop), forcing them to \"call back\" (enter the number again). But if they use the same name the output should read \"Sorry (user name) but that's too quick to evolve. Call us back when you have.\" For the evolved, take their order. Prompt the user with \"Anything else?\" They can add what they want until they input, \"No that's it.\" At that point summarize their order, and tell them how much it will cost.\n",
    "\n",
    "Test your code with different conditions. Make sure it cannot be broken by flawed or deliberately malicious user inputs."
   ]
  },
  {
   "cell_type": "code",
   "execution_count": 67,
   "id": "799101c9-9318-4a34-be5e-ce7c9e127b71",
   "metadata": {},
   "outputs": [
    {
     "name": "stdin",
     "output_type": "stream",
     "text": [
      "Please enter your phone number:  2035555555\n",
      "Elm City Pizza, where we have never had a case of food poisoning that can be proved. My name is Hal, what's your name?  Fiona\n",
      "What would you like to order (Pizza or Salad)?  Pizza\n",
      "Great choice, what size pizza (Small, Medium, Large) would you like?  Small\n",
      "Any toppings? (comma-separated, or type 'no' for none):  Sausage\n"
     ]
    },
    {
     "name": "stdout",
     "output_type": "stream",
     "text": [
      "Sorry, Fiona but you need to do some more work evolving.\n"
     ]
    },
    {
     "name": "stdin",
     "output_type": "stream",
     "text": [
      "Anything else? (Options: 'Yes' to continue ordering or 'No that's it' to finish):  Yes\n",
      "What would you like to order (Pizza or Salad)?  Pizza\n",
      "Great choice, what size pizza (Small, Medium, Large) would you like?  Small\n",
      "Any toppings? (comma-separated, or type 'no' for none):  Tofu, Shitake\n",
      "Anything else? (Options: 'Yes' to continue ordering or 'No that's it' to finish):  Yes\n",
      "What would you like to order (Pizza or Salad)?  Salad\n",
      "Great choice, what type of salad (Vegan Caesar, Vegan Greek, Cucumber Tumeric Tomato) would you like?  Vegan Greek\n",
      "What size would you like (Small, Large)?  Large\n",
      "Anything else? (Options: 'Yes' to continue ordering or 'No that's it' to finish):  No that's it\n"
     ]
    },
    {
     "name": "stdout",
     "output_type": "stream",
     "text": [
      "\n",
      "Your final order is: Small Pizza, Tofu, Shitake, Large Vegan Greek Salad\n",
      "Total cost: $14.90\n"
     ]
    }
   ],
   "source": [
    "#Your code here:\n",
    "# Menu with prices \n",
    "menu = {\n",
    "    \"pizza\": {\n",
    "        \"The Basic\": {\n",
    "            \"sizes\": {\n",
    "                \"Small\": 6.95,\n",
    "                \"Medium\": 8.95,\n",
    "                \"Large\": 10.90\n",
    "            },\n",
    "            \"toppings\": {\n",
    "                \"Shitake\": 0.50,\n",
    "                \"Jackfruit\": 0.50,\n",
    "                \"Sweet Potato\": 0.50,\n",
    "                \"Hummus\": 0.50,\n",
    "                \"Chickpeas\": 0.50,\n",
    "                \"Lentils\": 0.50,\n",
    "                \"Tofu\": 0.50,\n",
    "                \"Edamame\": 0.50,\n",
    "                \"Black Bean\": 0.50,\n",
    "                \"Red Cabbage\": 0.50,\n",
    "                \"Cucumber\": 0.50,\n",
    "                \"Tomato\": 0.50,\n",
    "                \"Jicama\": 0.50,\n",
    "                \"Fried Green Tomatoes\": 0.50,\n",
    "                \"Sun Dried Tomatoes\": 0.50,\n",
    "            }\n",
    "        }\n",
    "    },\n",
    "    \"salads\": {\n",
    "        \"Vegan Caesar\": {\n",
    "            \"Small\": 4.95,\n",
    "            \"Large\": 6.95\n",
    "        },\n",
    "        \"Vegan Greek\": {\n",
    "            \"Small\": 4.95,\n",
    "            \"Large\": 6.95\n",
    "        },\n",
    "        \"Cucumber Tumeric Tomato\": {\n",
    "            \"Small\": 4.95,\n",
    "            \"Large\": 6.95\n",
    "        }\n",
    "    }\n",
    "}\n",
    "\n",
    "# List of non-vegan toppings\n",
    "non_vegan = ['Mozzarella', 'Parmesan', 'Chicken', 'Pepperoni', 'Sausage']\n",
    "\n",
    "# Phone number for Elm City Pizza\n",
    "correct_phone_number = \"2035555555\"\n",
    "\n",
    "# Loop for entering phone number\n",
    "while True: \n",
    "    # Prompt the user for the phone number\n",
    "    user_phone_number = input(\"Please enter your phone number: \")\n",
    "\n",
    "    if user_phone_number == correct_phone_number:\n",
    "        user_name = input(\"\"\"Elm City Pizza, where we have never had a case of food poisoning that can be proved. My name is Hal, what's your name? \"\"\")\n",
    "        order_items = []  # Initialize the order_items list\n",
    "        total_cost = 0.0  # Initialize total_cost\n",
    "\n",
    "        order_complete = False  # Flag to indicate if the order is complete\n",
    "\n",
    "        while True:  # Loop to keep asking for the initial order\n",
    "            if order_complete:\n",
    "                break  # Exit the loop if order is complete\n",
    "\n",
    "            order = input(f\"What would you like to order (Pizza or Salad)? \")\n",
    "            valid_order = True  # Initialize a flag to check if the order is valid\n",
    "\n",
    "            if \"pizza\" in order.lower():  # Check for 'pizza' in a case-insensitive way\n",
    "                # Ask for size\n",
    "                size = input(\"Great choice, what size pizza (Small, Medium, Large) would you like? \")\n",
    "                if size in menu[\"pizza\"][\"The Basic\"][\"sizes\"]:\n",
    "                    order_items.append(f\"{size} Pizza\")\n",
    "                    total_cost += menu[\"pizza\"][\"The Basic\"][\"sizes\"][size]\n",
    "                    # Ask for toppings\n",
    "                    toppings = input(\"Any toppings? (comma-separated, or type 'no' for none): \")\n",
    "                    if toppings.lower() != 'no':  # Check for 'no' in a case-insensitive way\n",
    "                        for topping in toppings.split(','):\n",
    "                            topping = topping.strip()\n",
    "                            if topping in menu[\"pizza\"][\"The Basic\"][\"toppings\"]:\n",
    "                                order_items.append(topping)\n",
    "                                total_cost += menu[\"pizza\"][\"The Basic\"][\"toppings\"][topping]\n",
    "                            elif topping in non_vegan: \n",
    "                                print(f\"Sorry, {user_name} but you need to do some more work evolving.\")\n",
    "                                valid_order = False  # Set the flag to False to end the order loop\n",
    "                                order_items.clear()  # Clear the order items\n",
    "                                total_cost = 0.0 \n",
    "                                break  # End the topping loop\n",
    "                            else:\n",
    "                                print(f\"Sorry, {user_name}, we don't have that topping.\")\n",
    "                    \n",
    "                else:\n",
    "                    print(f\"Sorry, {user_name}, we don't have that size pizza.\")\n",
    "\n",
    "            elif \"salad\" in order.lower():  # Check for 'salad' in a case-insensitive way\n",
    "                # Ask for salad type\n",
    "                salad = input(\"Great choice, what type of salad (Vegan Caesar, Vegan Greek, Cucumber Tumeric Tomato) would you like? \")\n",
    "                if salad in menu[\"salads\"]:\n",
    "                    # Ask for salad size\n",
    "                    salad_size = input(\"What size would you like (Small, Large)? \")\n",
    "                    if salad_size in menu[\"salads\"][salad]:\n",
    "                        order_items.append(f\"{salad_size} {salad} Salad\")\n",
    "                        total_cost += menu[\"salads\"][salad][salad_size]\n",
    "                    else:\n",
    "                        print(f\"Sorry, {user_name}, we don't have that size for the salad. Please choose Small or Large.\")\n",
    "                else:\n",
    "                    print(f\"Sorry, {user_name}, we don't have that salad.\")\n",
    "            \n",
    "            else:\n",
    "                print(f\"Sorry, {user_name}, we don't have that. How about a super awesome pizza? Take a look at our menu, you'll find it's delicious.\")\n",
    "                print(\"Please enter your order again.\")  # Prompt to enter order again\n",
    "            \n",
    "            # Prompt for additional orders\n",
    "            more_order = input(\"Anything else? (Options: 'Yes' to continue ordering or 'No that's it' to finish): \")\n",
    "            if more_order.lower() == \"no that's it\":\n",
    "                # Print order summary when done\n",
    "                print(f\"\\nYour final order is: {', '.join(order_items)}\")\n",
    "                print(f\"Total cost: ${total_cost:.2f}\")\n",
    "                order_complete = True  # Set flag to indicate order is complete\n",
    "\n",
    "        break  # Exit the main loop after completing the order\n",
    "\n",
    "    else: \n",
    "        print(\"The phone number you have entered is incorrect.\")\n"
   ]
  },
  {
   "cell_type": "markdown",
   "id": "658dbd28-cdf5-4c75-a656-f0d1f1ff9082",
   "metadata": {},
   "source": [
    "I could not figure out how to get my code to break the loop and force the user to try to place an order again under a different name without ruining my other code. I figured getting orders right and calculating the total was more important. My code still detects when users try to add non-vegan toppings to their pizza and tells them that they need to \"do some more work evolving,\" but it instead clears their pizza order and asks if they would like anything else (example shown above). "
   ]
  }
 ],
 "metadata": {
  "kernelspec": {
   "display_name": "Python 3 (ipykernel)",
   "language": "python",
   "name": "python3"
  },
  "language_info": {
   "codemirror_mode": {
    "name": "ipython",
    "version": 3
   },
   "file_extension": ".py",
   "mimetype": "text/x-python",
   "name": "python",
   "nbconvert_exporter": "python",
   "pygments_lexer": "ipython3",
   "version": "3.12.4"
  }
 },
 "nbformat": 4,
 "nbformat_minor": 5
}
