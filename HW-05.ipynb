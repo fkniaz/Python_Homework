{
 "cells": [
  {
   "cell_type": "markdown",
   "id": "28d70cae-fedc-4dae-be43-c311a6498c95",
   "metadata": {},
   "source": [
    "## Writing to Files and Reading from Them\n",
    "\n",
    "So far, we have been working in \"console world\", a world where we print our output to our Jupyter notebeook cells, and we are happy to do it. But that has it's limitations. What makes these techniquest powerful, is our ability to save files to be accessed later, and to grab data and files from our computers or from data on the internet, or the world wide infonet as it was once called, albeit briefly.\n",
    "\n",
    "Let's go there! \n",
    "\n",
    "### Writing to a File:\n",
    "\n",
    "#### Some basics: \n",
    "Following the \"law of primacy\" ie; what you first learn you will remember most...here is the correct format for writing to a file:\n"
   ]
  },
  {
   "cell_type": "code",
   "execution_count": 1,
   "id": "b924d1d1-dc26-4e72-872b-c762694cb36b",
   "metadata": {},
   "outputs": [
    {
     "name": "stdout",
     "output_type": "stream",
     "text": [
      "Content written to first_lines_leader.txt successfully.\n"
     ]
    }
   ],
   "source": [
    "#Please assign 'first_lines_leader.txt'. \n",
    "#Please replace \"content\" with the first 3 lines of your favorite speech made by a world leader.\n",
    "#Then, run the code:\n",
    "\n",
    "filename = 'first_lines_leader.txt'\n",
    "content = 'I am certain that my fellow Americans expect that on my induction into the Presidency I will address them with a candor and a decision which the present situation of our Nation impels. This is preeminently the time to speak the truth, the whole truth, frankly and boldly. Nor need we shrink from honestly facing conditions in our country today.'\n",
    "with open(filename, 'w') as file:\n",
    "    file.write(content)\n",
    "print(f\"Content written to {filename} successfully.\")\n",
    "\n",
    "#Go to your finder. You should find your file in the same location as where you are working on this notebook.\n",
    "#Confirm you located your file. it."
   ]
  },
  {
   "cell_type": "markdown",
   "id": "57b69e21-b688-4a60-866a-a8dd365be620",
   "metadata": {},
   "source": [
    "### Let's break it down:\n",
    "\n",
    "1. Filename and content as variables:\n",
    "I assigned 'example.txt' to the filename variable and the string to the content variable. This is good practice because it makes the code more flexible and easier to modify.\n",
    "\n",
    "2. with open('filename', 'w') as file:\n",
    "This opens (or creates) a file named 'filename' in write mode ('w'), which will overwrite any existing content in the file.\n",
    "file is the file object you are working with. The file is automatically closed after the block.\n",
    "\n",
    "3. The content is then written to the file object you created. By the way you can call \"file\" anything. Lot's of times I'll write \"fo\" or even f\n",
    "\n",
    "4. A print statement confirms it worked.\n"
   ]
  },
  {
   "cell_type": "markdown",
   "id": "30786fe2-816d-4bc9-8bc1-ca6bec06a18c",
   "metadata": {},
   "source": [
    "### Oh....Did you find your file in your finder? Assuming the answer is \"yes\"...good job! Now let's grab that content and read it to the console\n"
   ]
  },
  {
   "cell_type": "code",
   "execution_count": 3,
   "id": "e5ce9319-c77d-4a29-bbd7-34538bd462b8",
   "metadata": {},
   "outputs": [
    {
     "name": "stdout",
     "output_type": "stream",
     "text": [
      "I am certain that my fellow Americans expect that on my induction into the Presidency I will address them with a candor and a decision which the present situation of our Nation impels. This is preeminently the time to speak the truth, the whole truth, frankly and boldly. Nor need we shrink from honestly facing conditions in our country today.\n"
     ]
    }
   ],
   "source": [
    "#Below:\n",
    "#filename is a string that holds the name of the file.\n",
    "#file is the file object created by open(filename, 'r').\n",
    "#The file.read() method reads the content of the file.\n",
    "#The print(content) prints out what was read from the file.\n",
    "\n",
    "with open(filename, 'r') as file:\n",
    "    content = file.read()\n",
    "print(content)"
   ]
  },
  {
   "cell_type": "markdown",
   "id": "a2e23c4b-ffb5-47d4-84a1-9e0ee467aa4e",
   "metadata": {},
   "source": [
    "### Read vs Readlines\n",
    "Above, we see that we can grab all the content of the fie using read(). This is a great way to go if we want to work with the file content as a whole, for example, searching for a word in the entire file, or processing word frequency distribution on a presidential speech.\n",
    "\n",
    "But what if the the file is very large? Teading the entire content into memory can be inefficient or even cause memory issues. \n",
    "\n",
    "Or what if we want to process the file line by line and pull out spaces, or other extraneous info that we don't want? \n",
    "\n",
    "Readlines to the rescue! \n",
    "Readlines reads the file line by line and returns a list of strings, where each string represents a line from the file.\n",
    "\n",
    "Use readlines() when you need to work with the file line by line, and you want to process or iterate over the lines.\n",
    "\n",
    "Here is an example:"
   ]
  },
  {
   "cell_type": "code",
   "execution_count": 5,
   "id": "d6242243-2ef8-4dbf-8458-22dd4a65d20a",
   "metadata": {},
   "outputs": [
    {
     "name": "stdout",
     "output_type": "stream",
     "text": [
      "I am certain that my fellow Americans expect that on my induction into the Presidency I will address them with a candor and a decision which the present situation of our Nation impels. This is preeminently the time to speak the truth, the whole truth, frankly and boldly. Nor need we shrink from honestly facing conditions in our country today.\n"
     ]
    }
   ],
   "source": [
    "with open('first_lines_leader.txt', 'r') as file:\n",
    "    lines = file.readlines()  # Reads the file and returns a list of lines\n",
    "for line in lines:\n",
    "    print(line.strip())  # Strip removes newline characters"
   ]
  },
  {
   "cell_type": "markdown",
   "id": "b4c6e907-cce7-44f5-838a-9bdc3257b0a4",
   "metadata": {},
   "source": [
    "### Alternative for very large files: \n",
    "I want to introduce you to this idea, because ChatGPT might suggest it, so I want you to be exposed and know what's going on.\n",
    "For very large files, neither read() nor readlines() may be efficient. Instead, you can read the file line by line without loading the whole file into memory using what is called a file object iterator:\n",
    "\n"
   ]
  },
  {
   "cell_type": "code",
   "execution_count": 7,
   "id": "87507f3a-a99a-4228-92da-91afd4e1a3f6",
   "metadata": {},
   "outputs": [
    {
     "name": "stdout",
     "output_type": "stream",
     "text": [
      "I am certain that my fellow Americans expect that on my induction into the Presidency I will address them with a candor and a decision which the present situation of our Nation impels. This is preeminently the time to speak the truth, the whole truth, frankly and boldly. Nor need we shrink from honestly facing conditions in our country today.\n"
     ]
    }
   ],
   "source": [
    "\n",
    "with open('first_lines_leader.txt', 'r') as file:\n",
    "    for line in file:\n",
    "        print(line.strip())"
   ]
  },
  {
   "cell_type": "markdown",
   "id": "48b1983a-5a7e-402e-8fd3-4b53c3db0f24",
   "metadata": {},
   "source": [
    "That said, you should use read() or readlines() in the majority of your cases as your file size will be moderately large at most."
   ]
  },
  {
   "cell_type": "markdown",
   "id": "ea4a1237-9306-494b-b69e-b9a0003bee44",
   "metadata": {},
   "source": [
    "### Some summary:\n",
    "\n",
    "Opening a File:\n",
    "\n",
    "Modes:\n",
    "'r' = read\n",
    "'w' = write (overwrites the file if it exists)\n",
    "'a' = append (adds to the end of the file)\n",
    "'b' = binary mode (for non-text files)\n",
    "\n"
   ]
  },
  {
   "cell_type": "markdown",
   "id": "29d646c1-07f1-4e6a-9077-4b96dc620a66",
   "metadata": {},
   "source": [
    "## All the President's Speeches \n",
    "20 pts\n",
    "\n",
    "As we learned on Thursday, word frequency distribution is an intuitive way of determining the major themes, topics, or even preoccupations of the speech giver.\n",
    "\n",
    "Pull texts from different US presidents and use FreqDist() to gain insights into the data. This is a fairly open assignment. The goal is to identify something interesting! Pull the text, tokenize, remove stopwords, and plot the frequency of the words. That's the technical part. But much of this assignment is your ability to use word frequency to gain insights comparatively, intra or inter presidents. Let the python notebook from our lecture be your guide! The more interesting and creative the analysis, the more points you will receive. We might pick one student's analysis to be displayed in lecture, and that person will receive bonus credit for the work.\n",
    "\n",
    "For full credit, please demonstrate the use of read(), readlines(), and write() to a file in this assignment. Where you do it? Up to you!"
   ]
  },
  {
   "cell_type": "code",
   "execution_count": null,
   "id": "3627fcae-fe53-4274-b15d-0096250020f1",
   "metadata": {},
   "outputs": [],
   "source": [
    "#Use as many cells as you need to. Your code here:"
   ]
  },
  {
   "cell_type": "code",
   "execution_count": 117,
   "id": "7ac96e3f-7df9-43ac-b44b-d633b1d1ac30",
   "metadata": {},
   "outputs": [],
   "source": [
    "# Import necessary packages\n",
    "import nltk\n",
    "from nltk import FreqDist\n",
    "from nltk.tokenize import word_tokenize\n",
    "from nltk.corpus import stopwords\n",
    "from nltk.corpus import inaugural"
   ]
  },
  {
   "cell_type": "markdown",
   "id": "e71a50d7-dc09-45cf-83e6-2ddae6bbdad4",
   "metadata": {},
   "source": [
    "Analysis plan: Compare the content of presidents' first inaugural address with their second inaugural address. I will only include presidents that have been elected to consecutive terms (therefore, Cleveland will be excluded). I will only examine FDR's first two inaugural addresses. Essentially, I want to see if incumbency changes the content of presidents' inaugural addresses, particularly with references to self (i.e., 'I', 'me', 'myself') versus the public (i.e., 'we', 'us', 'ours')."
   ]
  },
  {
   "cell_type": "code",
   "execution_count": 15,
   "id": "20a50e58-fd76-400c-b5c5-9dc2315699a7",
   "metadata": {},
   "outputs": [
    {
     "name": "stdout",
     "output_type": "stream",
     "text": [
      "['1789-Washington.txt', '1793-Washington.txt', '1797-Adams.txt', '1801-Jefferson.txt', '1805-Jefferson.txt', '1809-Madison.txt', '1813-Madison.txt', '1817-Monroe.txt', '1821-Monroe.txt', '1825-Adams.txt', '1829-Jackson.txt', '1833-Jackson.txt', '1837-VanBuren.txt', '1841-Harrison.txt', '1845-Polk.txt', '1849-Taylor.txt', '1853-Pierce.txt', '1857-Buchanan.txt', '1861-Lincoln.txt', '1865-Lincoln.txt', '1869-Grant.txt', '1873-Grant.txt', '1877-Hayes.txt', '1881-Garfield.txt', '1885-Cleveland.txt', '1889-Harrison.txt', '1893-Cleveland.txt', '1897-McKinley.txt', '1901-McKinley.txt', '1905-Roosevelt.txt', '1909-Taft.txt', '1913-Wilson.txt', '1917-Wilson.txt', '1921-Harding.txt', '1925-Coolidge.txt', '1929-Hoover.txt', '1933-Roosevelt.txt', '1937-Roosevelt.txt', '1941-Roosevelt.txt', '1945-Roosevelt.txt', '1949-Truman.txt', '1953-Eisenhower.txt', '1957-Eisenhower.txt', '1961-Kennedy.txt', '1965-Johnson.txt', '1969-Nixon.txt', '1973-Nixon.txt', '1977-Carter.txt', '1981-Reagan.txt', '1985-Reagan.txt', '1989-Bush.txt', '1993-Clinton.txt', '1997-Clinton.txt', '2001-Bush.txt', '2005-Bush.txt', '2009-Obama.txt', '2013-Obama.txt', '2017-Trump.txt', '2021-Biden.txt']\n"
     ]
    }
   ],
   "source": [
    "print(inaugural.fileids())"
   ]
  },
  {
   "cell_type": "code",
   "execution_count": 37,
   "id": "1c30076f-af0c-4c2f-8ee7-6b962064d20b",
   "metadata": {},
   "outputs": [],
   "source": [
    "# Create lists of presidents' first and second inaugural addresses\n",
    "\n",
    "first_inaug = ['1789-Washington.txt', '1801-Jefferson.txt', '1809-Madison.txt', '1817-Monroe.txt', '1829-Jackson.txt', '1861-Lincoln.txt', '1869-Grant.txt', \n",
    "               '1897-McKinley.txt', '1913-Wilson.txt', '1933-Roosevelt.txt', '1953-Eisenhower.txt', '1969-Nixon.txt', '1981-Reagan.txt', '1993-Clinton.txt', \n",
    "               '2001-Bush.txt', '2009-Obama.txt']\n",
    "\n",
    "second_inaug = ['1793-Washington.txt', '1805-Jefferson.txt', '1813-Madison.txt', '1821-Monroe.txt', '1833-Jackson.txt', '1865-Lincoln.txt', '1873-Grant.txt', \n",
    "                '1901-McKinley.txt', '1917-Wilson.txt', '1937-Roosevelt.txt', '1957-Eisenhower.txt', '1973-Nixon.txt', '1985-Reagan.txt', '1997-Clinton.txt', \n",
    "                '2005-Bush.txt', '2013-Obama.txt']"
   ]
  },
  {
   "cell_type": "code",
   "execution_count": 153,
   "id": "1949b2a7-5889-4642-9416-a07ee0a06f8c",
   "metadata": {},
   "outputs": [
    {
     "name": "stdout",
     "output_type": "stream",
     "text": [
      "2351.8125\n",
      "2031.0625\n"
     ]
    }
   ],
   "source": [
    "# First, investigate the average word count for each list of speeches\n",
    "\n",
    "def average_word_count(speeches):\n",
    "    ''' Function to calculate the average word count of a list of speeches '''\n",
    "    total_words = 0\n",
    "    for speech in speeches:\n",
    "        # Read the speech text tokenized as words\n",
    "        words = inaugural.words(speech)\n",
    "        # Add to the total word count\n",
    "        total_words += len(words)\n",
    "    # Return the average length\n",
    "    return total_words / len(speeches)\n",
    "\n",
    "# Calculate average length of first and second inaugural speeches\n",
    "\n",
    "avg_first_inaug = average_word_count(first_inaug)\n",
    "avg_second_inaug = average_word_count(second_inaug)\n",
    "\n",
    "print(avg_first_inaug)\n",
    "print(avg_second_inaug)"
   ]
  },
  {
   "cell_type": "code",
   "execution_count": 167,
   "id": "34f993a5-cc9e-4979-9a15-317c18228ee0",
   "metadata": {},
   "outputs": [],
   "source": [
    "# Combine all the speeches in first_inaug using .append() method\n",
    "content1_list = []\n",
    "for speech in first_inaug:\n",
    "    # Read the speech text\n",
    "    text = inaugural.raw(speech)\n",
    "    # Append the speech content to the list\n",
    "    content1_list.append(text)\n",
    "\n",
    "# Combine all the speeches in second_inaug using .append() method\n",
    "content2_list = []\n",
    "for speech in second_inaug:\n",
    "    # Read the speech text\n",
    "    text = inaugural.raw(speech)\n",
    "    # Append the speech content to the list\n",
    "    content2_list.append(text)\n",
    "\n",
    "# Join the lists into single strings, with double newlines separating each speech\n",
    "content1 = '\\n\\n'.join(content1_list)\n",
    "content2 = '\\n\\n'.join(content2_list)"
   ]
  },
  {
   "cell_type": "code",
   "execution_count": 85,
   "id": "ff066235-a486-4ce2-98f6-a67ba64dfbe6",
   "metadata": {},
   "outputs": [
    {
     "name": "stdout",
     "output_type": "stream",
     "text": [
      "Content written to first_inaug.txt successfully.\n",
      "Content written to second_inaug.txt successfully.\n"
     ]
    }
   ],
   "source": [
    "# Save raw combined speeches as .txt files for future analytical work\n",
    "\n",
    "filename1 = 'first_inaug.txt'\n",
    "with open(filename1, 'w', encoding = 'utf-8') as file:\n",
    "    file.write(content1)\n",
    "print(f\"Content written to {filename1} successfully.\")\n",
    "\n",
    "filename2 = 'second_inaug.txt'\n",
    "with open(filename2, 'w', encoding = 'utf-8') as file:\n",
    "    file.write(content2)\n",
    "print(f\"Content written to {filename2} successfully.\")"
   ]
  },
  {
   "cell_type": "code",
   "execution_count": 155,
   "id": "0b9bbad6-47c3-4fe7-8646-91c41736017b",
   "metadata": {},
   "outputs": [],
   "source": [
    "# Open the .txt files for analysis\n",
    "\n",
    "with open('first_inaug.txt', 'r') as file:\n",
    "    content1 = file.read()\n",
    "\n",
    "with open('second_inaug.txt', 'r') as file:\n",
    "    content2 = file.read()"
   ]
  },
  {
   "cell_type": "code",
   "execution_count": 127,
   "id": "9d772720-28ba-4736-bd8d-dde77ff7b42c",
   "metadata": {},
   "outputs": [
    {
     "name": "stdout",
     "output_type": "stream",
     "text": [
      "['fellow-citizens', 'of', 'the', 'senate', 'and', 'of', 'the', 'house', 'of', 'representatives']\n",
      "['fellow', 'citizens', ',', 'i', 'am', 'again', 'called', 'upon', 'by', 'the']\n"
     ]
    }
   ],
   "source": [
    "# Tokenize the combined speeches into words. Convert all words to lower case to be compatible with stopwords.\n",
    "\n",
    "content1_words = word_tokenize(content1)\n",
    "content1_words_lower = [word.lower() for word in content1_words]\n",
    "print(content1_words_lower[:10])  # Print the first 10 tokens for verification\n",
    "\n",
    "content2_words = word_tokenize(content2)\n",
    "content2_words_lower = [word.lower() for word in content2_words]\n",
    "print(content2_words_lower[:10])  # Print the first 10 tokens for verification"
   ]
  },
  {
   "cell_type": "code",
   "execution_count": 147,
   "id": "9f3397ad-8af0-4bea-a8a4-1fa7255f2008",
   "metadata": {},
   "outputs": [
    {
     "name": "stdout",
     "output_type": "stream",
     "text": [
      "['you', \"you're\", \"you've\", \"you'll\", \"you'd\", 'your', 'yours', 'yourself', 'yourselves', 'he', 'him', 'his', 'himself', 'she', \"she's\", 'her', 'hers', 'herself', 'it', \"it's\", 'its', 'itself', 'they', 'them', 'their', 'theirs', 'themselves', 'what', 'which', 'who', 'whom', 'this', 'that', \"that'll\", 'these', 'those', 'am', 'is', 'are', 'was', 'were', 'be', 'been', 'being', 'have', 'has', 'had', 'having', 'do', 'does', 'did', 'doing', 'a', 'an', 'the', 'and', 'but', 'if', 'or', 'because', 'as', 'until', 'while', 'of', 'at', 'by', 'for', 'with', 'about', 'against', 'between', 'into', 'through', 'during', 'before', 'after', 'above', 'below', 'to', 'from', 'up', 'down', 'in', 'out', 'on', 'off', 'over', 'under', 'again', 'further', 'then', 'once', 'here', 'there', 'when', 'where', 'why', 'how', 'all', 'any', 'both', 'each', 'few', 'more', 'most', 'other', 'some', 'such', 'no', 'nor', 'not', 'only', 'own', 'same', 'so', 'than', 'too', 'very', 's', 't', 'can', 'will', 'just', 'don', \"don't\", 'should', \"should've\", 'now', 'd', 'll', 'm', 'o', 're', 've', 'y', 'ain', 'aren', \"aren't\", 'couldn', \"couldn't\", 'didn', \"didn't\", 'doesn', \"doesn't\", 'hadn', \"hadn't\", 'hasn', \"hasn't\", 'haven', \"haven't\", 'isn', \"isn't\", 'ma', 'mightn', \"mightn't\", 'mustn', \"mustn't\", 'needn', \"needn't\", 'shan', \"shan't\", 'shouldn', \"shouldn't\", 'wasn', \"wasn't\", 'weren', \"weren't\", 'won', \"won't\", 'wouldn', \"wouldn't\", ',', ';', '.', '--']\n"
     ]
    }
   ],
   "source": [
    "stopwords = nltk.corpus.stopwords.words('english')\n",
    "\n",
    "# Add to list of stopwords based upon frequently-appearing insignificant words in the word lists\n",
    "\n",
    "new_stops = [',', ';', '.', '--']\n",
    "\n",
    "stopwords.extend(new_stops)\n",
    "\n",
    "# Remove references to self and the public from the list of stopwords\n",
    "\n",
    "keep_stops = ['i', 'me', 'my', 'myself', 'we', 'our', 'ours', 'ourselves']\n",
    "\n",
    "# Remove keep_stops from the stopwords list\n",
    "for word in keep_stops:\n",
    "    if word in stopwords:\n",
    "        stopwords.remove(word)\n",
    "\n",
    "print(stopwords)"
   ]
  },
  {
   "cell_type": "code",
   "execution_count": 149,
   "id": "2a8eb216-2afa-4ca3-957b-0ba4969e38cc",
   "metadata": {},
   "outputs": [
    {
     "name": "stdout",
     "output_type": "stream",
     "text": [
      "[('our', 591), ('we', 491), ('i', 260), ('us', 154), ('people', 137), ('government', 136), ('my', 130), ('must', 107), ('world', 90), ('every', 85), ('great', 85), ('upon', 85), ('shall', 84), ('may', 77), ('country', 74), ('states', 73), ('nation', 70), (\"'s\", 67), ('one', 64), ('me', 62)]\n"
     ]
    },
    {
     "data": {
      "image/png": "[encoded data removed]",
      "text/plain": [
       "<Figure size 640x480 with 1 Axes>"
      ]
     },
     "metadata": {},
     "output_type": "display_data"
    },
    {
     "name": "stdout",
     "output_type": "stream",
     "text": [
      "Axes(0.125,0.11;0.775x0.77)\n"
     ]
    }
   ],
   "source": [
    "# Remove stopwords from word lists\n",
    "clean1 = []\n",
    "\n",
    "for word in content1_words_lower:\n",
    "    if not word in stopwords:\n",
    "        clean1.append(word)\n",
    "\n",
    "# Display top 20 most frequently-appearing words\n",
    "\n",
    "fdist1 = FreqDist(clean1)\n",
    "\n",
    "fdist1_top20 = fdist1.most_common(20)\n",
    "print(fdist1_top20)\n",
    "\n",
    "print(fdist1.plot(20))"
   ]
  },
  {
   "cell_type": "code",
   "execution_count": 151,
   "id": "9dca04e5-6f10-4ebe-bd56-63864a436e2b",
   "metadata": {},
   "outputs": [
    {
     "name": "stdout",
     "output_type": "stream",
     "text": [
      "[('our', 543), ('we', 484), ('i', 162), ('us', 150), ('people', 121), ('government', 107), ('my', 106), ('world', 96), ('nation', 85), ('great', 84), ('new', 83), ('peace', 79), ('must', 78), ('america', 74), ('time', 74), ('may', 73), ('every', 72), ('war', 70), ('freedom', 69), ('states', 64)]\n"
     ]
    },
    {
     "data": {
      "image/png": "[encoded data removed]",
      "text/plain": [
       "<Figure size 640x480 with 1 Axes>"
      ]
     },
     "metadata": {},
     "output_type": "display_data"
    },
    {
     "name": "stdout",
     "output_type": "stream",
     "text": [
      "Axes(0.125,0.11;0.775x0.77)\n"
     ]
    }
   ],
   "source": [
    "# Remove stopwords from word lists\n",
    "clean2 = []\n",
    "\n",
    "for word in content2_words_lower:\n",
    "    if not word in stopwords:\n",
    "        clean2.append(word)\n",
    "\n",
    "# Display top 20 most frequently-appearing words\n",
    "\n",
    "fdist2 = FreqDist(clean2)\n",
    "\n",
    "fdist2_top20 = fdist2.most_common(20)\n",
    "print(fdist2_top20)\n",
    "\n",
    "print(fdist2.plot(20))"
   ]
  },
  {
   "cell_type": "markdown",
   "id": "e8b9c89c-dfed-4357-9eb1-36bc12efe8e5",
   "metadata": {},
   "source": [
    "Interestingly, many of the same words appear in presidents' first and second inaugural addresses in similar frequencies. Interestingly, although the word \"I\" appears a lot in both sets of inaugural addresses, it appears far fewer times in presidents' second inaugural addresses (162 total times) than in presidents' first inaugural addresses (260 total times). Some of this probably be due to the shorter average length of presidents' second inaugural addresses (avg. length of \n",
    "2031.062 words) compared to their first inaugural address (avg. length of 2351.8125 words), but it also may be the case that presidents who have been elected to a second term choose to highlight the collective accomplishments of the previous 4 years in office rather than what they will do as an individual to enact new policy change.55"
   ]
  },
  {
   "cell_type": "code",
   "execution_count": 185,
   "id": "894cf3a4-b9cb-4860-9b48-8022a02c0069",
   "metadata": {},
   "outputs": [
    {
     "name": "stdout",
     "output_type": "stream",
     "text": [
      "Fellow-Citizens of the Senate and of the House of Representatives:\n",
      "\n",
      "Among the vicissitudes incident to life no event could have filled me with greater anxieties than that of which the notification was transmitted by your order, and received on the 14th day of the present month. On the one hand, I was summoned by my Country, whose voice I can never hear but with veneration and love, from a retreat which I had chosen with the fondest predilection, and, in my flattering hopes, with an immutable decision, as the asylum of my declining years -- a retreat which was rendered every day more necessary as well as more dear to me by the addition of habit to inclination, and of frequent interruptions in my health to the gradual waste committed on it by time. On the other hand, the magnitude and difficulty of the trust to which the voice of my country called me, being sufficient to awaken in the wisest and most experienced of her citizens a distrustful scrutiny into his qualifications, could not but overwhelm with despondence one who (inheriting inferior endowments from nature and unpracticed in the duties of civil administration) ought to be peculiarly conscious of his own deficiencies. In this conflict of emotions all I dare aver is that it has been my faithful study to collect my duty from a just appreciation of every circumstance by which it might be affected. All I dare hope is that if, in executing this task, I have been too much swayed by a grateful remembrance of former instances, or by an affectionate sensibility to this transcendent proof of the confidence of my fellow citizens, and have thence too little consulted my incapacity as well as disinclination for the weighty and untried cares before me, my error will be palliated by the motives which mislead me, and its consequences be judged by my country with some share of the partiality in which they originated.\n",
      "\n",
      "Such being the impressions under which I have, in obedience to the public summons, repaired to the present station, it would be peculiarly improper to omit in this first official act my fervent supplications to that Almighty Being who rules over the universe, who presides in the councils of nations, and whose providential aids can supply every human defect, that His benediction may consecrate to the liberties and happiness of the people of the United States a Government instituted by themselves for these essential purposes, and may enable every instrument employed in its administration to execute with success the functions allotted to his charge. In tendering this homage to the Great Author of every public and private good, I assure myself that it expresses your sentiments not less than my own, nor those of my fellow citizens at large less than either. No people can be bound to acknowledge and adore the Invisible Hand which conducts the affairs of men more than those of the United States. Every step by which they have advanced to the character of an independent nation seems to have been distinguished by some token of providential agency; and in the important revolution just accomplished in the system of their united government the tranquil deliberations and voluntary consent of so many distinct communities from which the event has resulted can not be compared with the means by which most governments have been established without some return of pious gratitude, along with an humble anticipation of the future blessings which the past seem to presage. These reflections, arising out of the present crisis, have forced themselves too strongly on my mind to be suppressed. You will join with me, I trust, in thinking that there are none under the influence of which the proceedings of a new and free government can more auspiciously commence.\n"
     ]
    }
   ],
   "source": [
    "# using .readlines() didn't really fit with my analysis plan, but here it is to demonstrate usage in context\n",
    "\n",
    "with open('first_inaug.txt', 'r') as file:\n",
    "    lines = file.readlines()  # Reads the file and returns a list of lines\n",
    "for line in lines[:5]:  # Use slicing to get the first 5 lines\n",
    "    print(line.strip()) "
   ]
  },
  {
   "cell_type": "markdown",
   "id": "c62aa294-afdf-4e9e-b8c9-d57654f75756",
   "metadata": {},
   "source": [
    "It's not entirely clear to me why this code shows the first 3 paragraphs(lines) rather than the first 5. When I run print(lines) - I didn't include this in my GitHub submission because the text that is printed is unnecessarily long - each paragraph ends with ... \\n'. Each paragraph is then followed by '\\n', and then the next paragraph begins. My thought here is that each time \\n appears, it counts as a line. \\n appears for the fifth time at the end of the third paragraph, which I believe is why printing ceases at this point. How should I correct this for furture work?"
   ]
  },
  {
   "cell_type": "code",
   "execution_count": 187,
   "id": "d23192ed-3e43-4536-9177-92d4bc81c315",
   "metadata": {},
   "outputs": [
    {
     "name": "stdout",
     "output_type": "stream",
     "text": [
      "Requirement already satisfied: beautifulsoup4 in c:\\users\\fknia\\anaconda3\\lib\\site-packages (4.12.3)\n",
      "Requirement already satisfied: soupsieve>1.2 in c:\\users\\fknia\\anaconda3\\lib\\site-packages (from beautifulsoup4) (2.5)\n"
     ]
    }
   ],
   "source": [
    "!pip install beautifulsoup4"
   ]
  },
  {
   "cell_type": "markdown",
   "id": "66c3cd73-d4bc-4df3-a7d5-6ff8cd598ab9",
   "metadata": {},
   "source": [
    "### Scraping\n",
    "That's great that we can analyze text that is pre-processed in the NLTK package. But what if NLTK doesn't have the text we want? I mean as awesome as Jane Austen and inaugural texts are.... \n",
    "\n",
    "Text scraping, also known as web scraping or data scraping, refers to the process of automatically extracting text data from websites or other online sources. Over my 14 years, I have seen companies and websites realize that they should not just easily give away their text data. Scraping used to be easy. Data used to be easy to grab from the internet. It's gotten harder for some sites, but others allow access, or simply haven't gotten around to restricting it. **WHEN SCRAPING, PLEASE MAKE SURE YOU ARE NOT VIOLATING TERMS OF USE**. Usually, these apply to commercial use, and for research or academic purposes, there are fewer restrictions. \n",
    "\n",
    "Below is some code for you to scrape a website. The package is called \"Beautiful Soup\" I have given you code below to use.\n",
    "\n",
    "I have given you TWO websites to scrape. PLEASE PICK ONE of TWO. Either:\n",
    "\n",
    "A speech from Christine LaGrande on Sustainable Development Goal: Here is the url: https://www.imf.org/en/News/Articles/2018/09/17/sp09172018-the-case-for-the-sustainable-development-goals' OR\n",
    "\n",
    "\"Joint Statement of the Russian Federation and the People’s Republic of China on the International Relations Entering a New Era and the Global Sustainable Development\" Feb, 2022. Here is the url: http://www.en.kremlin.ru/supplement/5770"
   ]
  },
  {
   "cell_type": "code",
   "execution_count": 189,
   "id": "07f523e7-2ffc-437d-9c49-4fbcb51293cd",
   "metadata": {},
   "outputs": [
    {
     "ename": "SyntaxError",
     "evalue": "invalid syntax (3010461718.py, line 4)",
     "output_type": "error",
     "traceback": [
      "\u001b[1;36m  Cell \u001b[1;32mIn[189], line 4\u001b[1;36m\u001b[0m\n\u001b[1;33m    base_url = #use one the urls above as a string\u001b[0m\n\u001b[1;37m               ^\u001b[0m\n\u001b[1;31mSyntaxError\u001b[0m\u001b[1;31m:\u001b[0m invalid syntax\n"
     ]
    }
   ],
   "source": [
    "import requests\n",
    "from bs4 import BeautifulSoup\n",
    " \n",
    "base_url = #use one the urls above as a string\n",
    "r = requests.get(base_url)\n",
    "soup = BeautifulSoup(r.text)\n",
    "paragraphs = soup.find_all('p')\n",
    "\n",
    "for p in paragraphs:\n",
    "    print(p.get_text())"
   ]
  },
  {
   "cell_type": "markdown",
   "id": "c053edd6-7900-40cf-9bdb-b1c5b191f358",
   "metadata": {},
   "source": [
    "5 pts Modify the text above to write the text to a list called \"document\"\n"
   ]
  },
  {
   "cell_type": "code",
   "execution_count": 237,
   "id": "ccd516db-0d54-434a-be1e-be0f06a3cf2e",
   "metadata": {},
   "outputs": [
    {
     "name": "stdout",
     "output_type": "stream",
     "text": [
      "['All', 'content', 'on', 'this', 'site', 'is', 'licensed', 'under', 'Creative', 'Commons', 'Attribution', '4.0', 'International', 'At', 'the', 'invitation', 'of', 'President', 'of', 'the', 'People’s', 'Republic', 'of', 'China', 'Xi', 'Jinping,', 'President', 'of', 'the', 'Russian', 'Federation', 'Vladimir', 'V.', 'Putin', 'visited', 'China', 'on', '4', 'February', '2022.', 'The', 'Heads', 'of', 'State', 'held', 'talks', 'in', 'Beijing', 'and', 'took', 'part', 'in', 'the', 'opening', 'ceremony', 'of', 'the', 'XXIV', 'Olympic', 'Winter', 'Games.', 'The', 'Russian', 'Federation', 'and', 'the', \"People's\", 'Republic', 'of', 'China,', 'hereinafter', 'referred', 'to', 'as', 'the', 'sides,', 'state', 'as', 'follows.', 'Today,', 'the', 'world', 'is', 'going', 'through', 'momentous', 'changes,', 'and', 'humanity', 'is', 'entering', 'a', 'new', 'era', 'of', 'rapid', 'development', 'and', 'profound', 'transformation.']\n"
     ]
    }
   ],
   "source": [
    "# Your code here:\n",
    "import requests\n",
    "from bs4 import BeautifulSoup\n",
    "\n",
    "base_url = 'http://www.en.kremlin.ru/supplement/5770'\n",
    "r = requests.get(base_url)\n",
    "soup = BeautifulSoup(r.text)\n",
    "paragraphs = soup.find_all('p')\n",
    "\n",
    "# Initialize an empty list to store the text\n",
    "document = []\n",
    "\n",
    "# Iterate through each paragraph\n",
    "for p in paragraphs:\n",
    "    # Get the text, strip whitespace, and split into words\n",
    "    words = p.get_text().strip().split()\n",
    "    # Extend the document list with the words\n",
    "    document.extend(words)\n",
    "\n",
    "# Print the first 100 words to check above code\n",
    "print(document[:100])"
   ]
  },
  {
   "cell_type": "code",
   "execution_count": null,
   "id": "7fdb9fd0-ae4b-4608-82f7-9f34d216d86c",
   "metadata": {},
   "outputs": [],
   "source": [
    "5 pts Write the code to a file called \"document.txt\""
   ]
  },
  {
   "cell_type": "code",
   "execution_count": 225,
   "id": "1cb238d1-a64a-4a96-88d9-7d15569dc59d",
   "metadata": {},
   "outputs": [
    {
     "name": "stdout",
     "output_type": "stream",
     "text": [
      "Content written to document.txt successfully.\n"
     ]
    }
   ],
   "source": [
    "# Your code here:\n",
    "\n",
    "filename = 'document.txt'\n",
    "with open(filename, 'w', encoding = 'utf-8') as file:\n",
    "    for word in document:\n",
    "        file.write(word + '\\n')  # Write each word on a new line\n",
    "\n",
    "print(f\"Content written to {filename} successfully.\")"
   ]
  },
  {
   "cell_type": "markdown",
   "id": "8fa5d878-807a-42be-89e2-0eeabbe47c74",
   "metadata": {},
   "source": [
    "20 pts Clean the document of any extraneous elements, remove stopwords and perform a word frequency distribution analysis on your document, showing and then plotting the top 20 words"
   ]
  },
  {
   "cell_type": "code",
   "execution_count": 239,
   "id": "060d7c8f-c9e4-4f20-9937-49875f2d3826",
   "metadata": {},
   "outputs": [
    {
     "name": "stdout",
     "output_type": "stream",
     "text": [
      "['Today,', 'the', 'world', 'is', 'going', 'through', 'momentous', 'changes,', 'and', 'humanity']\n",
      "[('sides', 83), ('international', 71), ('cooperation', 36), ('development', 32), ('security', 30), ('global', 28), ('china', 26), ('states', 22), ('russia', 21), ('world', 20), ('united', 19), ('support', 19), ('new', 16), ('strengthen', 16), ('countries', 16), ('sustainable', 15), ('rights', 14), ('call', 14), ('human', 14), ('well', 14)]\n"
     ]
    },
    {
     "data": {
      "image/png": "[encoded data removed]",
      "text/plain": [
       "<Figure size 640x480 with 1 Axes>"
      ]
     },
     "metadata": {},
     "output_type": "display_data"
    },
    {
     "name": "stdout",
     "output_type": "stream",
     "text": [
      "Axes(0.125,0.11;0.775x0.77)\n"
     ]
    }
   ],
   "source": [
    "# Your code here:\n",
    "\n",
    "# Slice off the licensing agreement and other text that appears before the statement begins\n",
    "document = document[79:]\n",
    "\n",
    "# Print check\n",
    "print(document[:10])\n",
    "\n",
    "# Convert all words in the text to lower case so they are no longer case sensitive\n",
    "document_lower = [word.lower() for word in document]\n",
    "\n",
    "# Create list of stopwords\n",
    "stopwords = nltk.corpus.stopwords.words('english')\n",
    "\n",
    "# Remove stopwords from the text\n",
    "document_clean = []\n",
    "\n",
    "for word in document_lower:\n",
    "    if not word in stopwords:\n",
    "        document_clean.append(word)\n",
    "\n",
    "# Display top 20 most frequently-appearing words\n",
    "\n",
    "fdist = FreqDist(document_clean)\n",
    "\n",
    "fdist_top20 = fdist.most_common(20)\n",
    "print(fdist_top20)\n",
    "\n",
    "print(fdist.plot(20))"
   ]
  },
  {
   "cell_type": "markdown",
   "id": "74243478-22c7-4fbc-b03e-95699c62c874",
   "metadata": {},
   "source": [
    "5 pts Please read the speech. What does the word frequency tell us, if anything, about the speech? Please answer in a short paragraph that tells me how the word frequency distribution is good at finding meaning, but also may miss the meaning that you gained from actually reading the article.\n",
    "\n",
    "Your paragraph here:\n",
    "\n",
    "The word frequency distribution tells us broadly what topic areas the article is about, but this can also be achieved by reading the title of the statement. However, much of the context is missing. Simple word frequency distributions might not be well-equipped to tell us the directional thrust of a statement. For example, the frequency distribution doesn't tell us about China and Russia's general stance towards development (e.g., how it should be best achieved). Additionally, some words, like 'sides,' have very little interpretive meaning without reading the article and being placed in context. Before reading the article, I assumed that 'sides' was being used in an adversarial manner. However, after reading the article, it was clear that 'sides' was just used in place of saying 'Russia and China.'"
   ]
  },
  {
   "cell_type": "markdown",
   "id": "02613f82-9c85-4581-a5e3-b194d7feeca1",
   "metadata": {},
   "source": [
    "### Intro to Summarization\n",
    "Summarization has been a thorny problem for data scientists over the past decade. There have been many approaches, but most, until ChatGPT and it's use of the transformers' architecture, they have been unsatisfactory. There are two main types of summarization:\n",
    "\n",
    "Extractive Summarization: Finding the most important sentences and rendering them verbatim.\n",
    "\n",
    "Abstractive Summarization: Taking the most important ideas from a document and generating a summary based on them\n",
    "\n",
    "There have been many different algorithms that have attempted summarization. Let's learn about one of the most used and deploy it in python."
   ]
  },
  {
   "cell_type": "markdown",
   "id": "4fb7cd69-83a1-400a-8820-2d0929b5d52d",
   "metadata": {},
   "source": [
    "#### Luhns Heuristic Method\n",
    "This is one of the earliest approaches of text summarization. This is related to our manual interpretation of the importance of word frequency in a document.Basically, just as we did, Luhn recognized that word frequency and word significance is highly correlated, but only \"important\" words. The assumption that the most important sentences are those with the most significant words. Here is a nice short article that explains the algo in an accessible way: https://blog.fastforwardlabs.com/2016/03/25/h.p.-luhn-and-the-heuristic-value-of-simplicity.html\n",
    "\n",
    "##### Sumy is a python package that has a lot of different commons summarization methods including LSA, LexRank and Luhn."
   ]
  },
  {
   "cell_type": "code",
   "execution_count": 243,
   "id": "e937ffbd-8fc9-4eff-91bc-dfdbcc4048e4",
   "metadata": {},
   "outputs": [
    {
     "name": "stdout",
     "output_type": "stream",
     "text": [
      "Requirement already satisfied: sumy in c:\\users\\fknia\\anaconda3\\lib\\site-packages (0.11.0)\n",
      "Requirement already satisfied: docopt<0.7,>=0.6.1 in c:\\users\\fknia\\anaconda3\\lib\\site-packages (from sumy) (0.6.2)\n",
      "Requirement already satisfied: breadability>=0.1.20 in c:\\users\\fknia\\anaconda3\\lib\\site-packages (from sumy) (0.1.20)\n",
      "Requirement already satisfied: requests>=2.7.0 in c:\\users\\fknia\\anaconda3\\lib\\site-packages (from sumy) (2.32.2)\n",
      "Requirement already satisfied: pycountry>=18.2.23 in c:\\users\\fknia\\anaconda3\\lib\\site-packages (from sumy) (24.6.1)\n",
      "Requirement already satisfied: nltk>=3.0.2 in c:\\users\\fknia\\anaconda3\\lib\\site-packages (from sumy) (3.8.1)\n",
      "Requirement already satisfied: chardet in c:\\users\\fknia\\anaconda3\\lib\\site-packages (from breadability>=0.1.20->sumy) (3.0.4)\n",
      "Requirement already satisfied: lxml>=2.0 in c:\\users\\fknia\\anaconda3\\lib\\site-packages (from breadability>=0.1.20->sumy) (5.2.1)\n",
      "Requirement already satisfied: click in c:\\users\\fknia\\anaconda3\\lib\\site-packages (from nltk>=3.0.2->sumy) (8.1.7)\n",
      "Requirement already satisfied: joblib in c:\\users\\fknia\\anaconda3\\lib\\site-packages (from nltk>=3.0.2->sumy) (1.4.2)\n",
      "Requirement already satisfied: regex>=2021.8.3 in c:\\users\\fknia\\anaconda3\\lib\\site-packages (from nltk>=3.0.2->sumy) (2023.10.3)\n",
      "Requirement already satisfied: tqdm in c:\\users\\fknia\\anaconda3\\lib\\site-packages (from nltk>=3.0.2->sumy) (4.66.4)\n",
      "Requirement already satisfied: charset-normalizer<4,>=2 in c:\\users\\fknia\\anaconda3\\lib\\site-packages (from requests>=2.7.0->sumy) (2.0.4)\n",
      "Requirement already satisfied: idna<4,>=2.5 in c:\\users\\fknia\\anaconda3\\lib\\site-packages (from requests>=2.7.0->sumy) (2.10)\n",
      "Requirement already satisfied: urllib3<3,>=1.21.1 in c:\\users\\fknia\\anaconda3\\lib\\site-packages (from requests>=2.7.0->sumy) (2.2.2)\n",
      "Requirement already satisfied: certifi>=2017.4.17 in c:\\users\\fknia\\anaconda3\\lib\\site-packages (from requests>=2.7.0->sumy) (2024.7.4)\n",
      "Requirement already satisfied: colorama in c:\\users\\fknia\\anaconda3\\lib\\site-packages (from click->nltk>=3.0.2->sumy) (0.4.6)\n"
     ]
    }
   ],
   "source": [
    "#install sumy package\n",
    "!pip install sumy"
   ]
  },
  {
   "cell_type": "markdown",
   "id": "819dde4b-4a7a-45b6-a728-a93d7fc8ce06",
   "metadata": {},
   "source": [
    "Run the following code. Pass the document you want to summarize as a variable in the document part of the statement below. Use the variable that you saved the document into if it's something different.\n",
    "\n",
    "PlaintextParser.from_string(document,Tokenizer(\"english\"))"
   ]
  },
  {
   "cell_type": "code",
   "execution_count": 247,
   "id": "b3d00b0b-10d6-49ea-9c27-24af0c3f3167",
   "metadata": {},
   "outputs": [
    {
     "name": "stdout",
     "output_type": "stream",
     "text": [
      "', 'It', 'sees', 'the', 'development', 'of', 'such', 'processes', 'and', 'phenomena', 'as', 'multipolarity,', 'economic', 'globalization,', 'the', 'advent', 'of', 'information', 'society,', 'cultural', 'diversity,', 'transformation', 'of', 'the', 'global', 'governance', 'architecture', 'and', 'world', 'order;', 'there', 'is', 'increasing', 'interrelation', 'and', 'interdependence', 'between', 'the', 'States;', 'a', 'trend', 'has', 'emerged', 'towards', 'redistribution', 'of', 'power', 'in', 'the', 'world;', 'and', 'the', 'international', 'community', 'is', 'showing', 'a', 'growing', 'demand', 'for', 'the', 'leadership', 'aiming', 'at', 'peaceful', 'and', 'gradual', 'development.\n",
      "', 'I', 'The', 'sides', 'share', 'the', 'understanding', 'that', 'democracy', 'is', 'a', 'universal', 'human', 'value,', 'rather', 'than', 'a', 'privilege', 'of', 'a', 'limited', 'number', 'of', 'States,', 'and', 'that', 'its', 'promotion', 'and', 'protection', 'is', 'a', 'common', 'responsibility', 'of', 'the', 'entire', 'world', 'community.\n"
     ]
    }
   ],
   "source": [
    "from sumy.summarizers.luhn import LuhnSummarizer\n",
    "from sumy.parsers.plaintext import PlaintextParser\n",
    "from sumy.nlp.tokenizers import Tokenizer\n",
    "\n",
    "parser = PlaintextParser.from_string(document,Tokenizer(\"english\"))\n",
    "\n",
    "summarizer_luhn = LuhnSummarizer()\n",
    "summary_1 = summarizer_luhn(parser.document,2)\n",
    "for sentence in summary_1:\n",
    "    print(sentence)"
   ]
  },
  {
   "cell_type": "markdown",
   "id": "ef1612c2-f4fb-4b53-b851-876a4176ce42",
   "metadata": {},
   "source": [
    "10 pts Evaluate the Luhn summarization below on the document you selected in the previous problem. How did it do?\n",
    "\n",
    "Your evaluation here: The summary is okay at capturing the general platiudes within the statement particularly around democracy and a shifting global order, but this summary is quite surface-level. It doesn't capture some of the key subtext within the statement, namely that Russia and China seek to signal strengthened relations with one another and assert greater influence over global affairs and development efforts. However, this sentiment is never directly expressed and requires some interpretive capability, which I'm not sure this textual summarization method posesses. "
   ]
  },
  {
   "cell_type": "markdown",
   "id": "d781fdfc-13fe-4b5b-8c3d-a827304e86b5",
   "metadata": {},
   "source": [
    "10 pts Now look at the documentation for Sumy and use the Lex Rank summarization algo.\n"
   ]
  },
  {
   "cell_type": "code",
   "execution_count": 249,
   "id": "5de74fde-eb5e-459f-b041-632f8da2c6cf",
   "metadata": {},
   "outputs": [
    {
     "name": "stdout",
     "output_type": "stream",
     "text": [
      "['Today,', 'the', 'world', 'is', 'going', 'through', 'momentous', 'changes,', 'and', 'humanity', 'is', 'entering', 'a', 'new', 'era', 'of', 'rapid', 'development', 'and', 'profound', 'transformation.\n",
      "', 'It', 'sees', 'the', 'development', 'of', 'such', 'processes', 'and', 'phenomena', 'as', 'multipolarity,', 'economic', 'globalization,', 'the', 'advent', 'of', 'information', 'society,', 'cultural', 'diversity,', 'transformation', 'of', 'the', 'global', 'governance', 'architecture', 'and', 'world', 'order;', 'there', 'is', 'increasing', 'interrelation', 'and', 'interdependence', 'between', 'the', 'States;', 'a', 'trend', 'has', 'emerged', 'towards', 'redistribution', 'of', 'power', 'in', 'the', 'world;', 'and', 'the', 'international', 'community', 'is', 'showing', 'a', 'growing', 'demand', 'for', 'the', 'leadership', 'aiming', 'at', 'peaceful', 'and', 'gradual', 'development.\n"
     ]
    }
   ],
   "source": [
    "# Your code here:\n",
    "\n",
    "from sumy.summarizers.lex_rank import LexRankSummarizer\n",
    "\n",
    "parser = PlaintextParser.from_string(document, Tokenizer(\"english\"))\n",
    "summarizer_lexrank = LexRankSummarizer()\n",
    "summary_lexrank = summarizer_lexrank(parser.document, 2)\n",
    "for sentence in summary_lexrank:\n",
    "    print(sentence)"
   ]
  },
  {
   "cell_type": "markdown",
   "id": "01d55601-95b4-4f97-8014-a22e0524cd11",
   "metadata": {},
   "source": [
    "How does Lex Rank work? Explain it to me and evaluate the differences in the two algos.\n",
    "\n",
    "5 pts Your explanation and evaluation here:\n",
    "\n",
    "LexRank computes the similarity between every pair of sentences. It then determines the most central or \"important\" sentences based on their connections to other sentences. Sentences with the highest ranks are selected for the summary. Luhn’s summarization, however, prioritizes sentences based on word frequency. The two algorithms generate similar summarys in this context. The summary obtained using LexRank emphasizes global changes a bit more and the summary obtained using Luhn’s summarization contains additional content about democracy as a universal human value."
   ]
  },
  {
   "cell_type": "markdown",
   "id": "98d8a812-d154-4ded-b3f4-faab50943da5",
   "metadata": {
    "jp-MarkdownHeadingCollapsed": true
   },
   "source": [
    "Using ChatGPT for Summarization\n",
    "Now use Chatgpt to perform extractive and abstractive summarization on your document. Copy and paste into prompt. You will see that the document may be too long, so you may have to break the document into parts. Does where you break your document impact the summarization?\n",
    "\n",
    "5 pts Copy and paste your prompt and the ChatGPT extractive summarization here:\n",
    "\n",
    "I at first provided the promopt: Please use extractive summarization to summarize the following statement: (Do not summarize until all components of the statement have been entered. I will type \"all statements have been entered.\")\n",
    "\n",
    "ChatGPT ignored this and summarized each of my three chunks of text individually. \n",
    "\n",
    "I then used this prompt after entering all chunks of text: Use extractive summarization to summarize the three previous chunks of text provided.\n",
    "\n",
    "ChatGPT summary: \n",
    "\n",
    "Russia and China, as world powers and permanent members of the UN Security Council, intend to adhere to moral principles, advocate for a UN-centered international system, defend the world order based on international law, and promote multipolarity. They emphasize the concept of a “community of common destiny for mankind” and the significance of a just multipolar system.\n",
    "\n",
    "The sides aim to uphold the outcomes of the Second World War, defend the authority of the UN, and condemn attempts to deny or distort its history. They call for new relationships based on mutual respect and peaceful coexistence, stating that their partnership surpasses Cold War-era alliances and has no “forbidden” areas of cooperation.\n",
    "\n",
    "Both countries advocate for the consolidation of the international community and oppose confrontation between major powers. They support the WTO’s central role in the multilateral trade system and are committed to G20 cooperation, BRICS partnerships, and strengthening the Shanghai Cooperation Organization (SCO) for a multipolar world order. Additionally, they recognize the importance of cultural and humanitarian cooperation within the SCO and support APEC as a leading platform for economic dialogue in the Asia-Pacific region."
   ]
  },
  {
   "cell_type": "markdown",
   "id": "731da82e-7aeb-48b8-8a82-a6455b41232e",
   "metadata": {},
   "source": [
    "5 pts Copy and paste your prompt and the ChatGPT abstractive summarization here:\n",
    "\n",
    "I used the same prompt (replacing 'extractive' with 'abstractive') and chunks as the previous example for consistency. Once again, ChatGPT ignored my initial prompt to wait to summarize all chunks together.\n",
    "\n",
    "ChatGPT summary:\n",
    "\n",
    "Russia and China are reaffirming their commitment to a cooperative international order based on shared moral principles and adherence to international law, emphasizing the central role of the United Nations. They advocate for a multipolar world and a democratization of international relations while resisting attempts to distort historical narratives, particularly regarding World War II.\n",
    "\n",
    "The two nations are working towards establishing new relationships among global powers characterized by mutual respect and cooperation, distinguishing their partnership from Cold War alliances. They reject unilateral actions, promote trade facilitation under WTO rules, and emphasize the importance of multilateral cooperation through platforms like BRICS and the G20.\n",
    "\n",
    "Within regional frameworks, particularly the Shanghai Cooperation Organization (SCO) and APEC, they aim to enhance security, trade, and humanitarian exchanges, fostering deeper ties among member states. Together, Russia and China seek to position themselves as leaders in promoting a stable and equitable international landscape while addressing common global challenges."
   ]
  },
  {
   "cell_type": "markdown",
   "id": "5a8c850c-bf83-412c-b1ee-ee48e6b80550",
   "metadata": {},
   "source": [
    "5 pts Does breaking the document in different places impact the summarization? Answer here:\n",
    "\n",
    "Yes, breaking the document in different places could result in loss of context and therefore thematic incoherence of the summary provided. Additionally, if some points are repeated across sections, the summary may include redundant information or may it appear as if these repeated points are more central to the text than they actually are. This is why I asked ChatGPT to summarize all chunks of text together."
   ]
  },
  {
   "cell_type": "markdown",
   "id": "b338a145-bd59-4039-a7e8-5de9d14f0b73",
   "metadata": {},
   "source": [
    "5 pts Watch this video, and be prepared for a quiz on it! \n",
    "https://www.youtube.com/watch?v=wjZofJX0v4M&list=PLZHQObOWTQDNU6R1_67000Dx_ZCJB-3pi&index=5\n"
   ]
  }
 ],
 "metadata": {
  "kernelspec": {
   "display_name": "Python 3 (ipykernel)",
   "language": "python",
   "name": "python3"
  },
  "language_info": {
   "codemirror_mode": {
    "name": "ipython",
    "version": 3
   },
   "file_extension": ".py",
   "mimetype": "text/x-python",
   "name": "python",
   "nbconvert_exporter": "python",
   "pygments_lexer": "ipython3",
   "version": "3.12.4"
  }
 },
 "nbformat": 4,
 "nbformat_minor": 5
}
