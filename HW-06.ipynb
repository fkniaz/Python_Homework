{
 "cells": [
  {
   "cell_type": "markdown",
   "id": "aac5bcfb-020e-44b4-a0f1-7a8ca177fa1b",
   "metadata": {},
   "source": [
    "# HW 6\n",
    "\n",
    "1. Translating Sentences:\n",
    "10 pts\n",
    "Write a function that translates sentences. The function takes two arguements, the sentence to be translated and tthe targeted language and returns the translated sentence."
   ]
  },
  {
   "cell_type": "code",
   "execution_count": 2,
   "id": "f089667a-5110-4b19-9c09-71c2fb8f8f12",
   "metadata": {},
   "outputs": [],
   "source": [
    "# Your code here:\n",
    "\n",
    "from googletrans import Translator\n",
    "''' function to translate sentences '''\n",
    "def translate_sentence(sentence, target_language):\n",
    "    \n",
    "    # Initialize the translator\n",
    "    translator = Translator()\n",
    "    \n",
    "    # Translate the sentence\n",
    "    translation = translator.translate(sentence, dest=target_language)\n",
    "    \n",
    "    # Return the translated text\n",
    "    return translation.text"
   ]
  },
  {
   "cell_type": "markdown",
   "id": "acb9b1ca-0b7a-4367-b0d4-0eec50b068d8",
   "metadata": {},
   "source": [
    "Take the following sentence and translate it from English to Spanish.\n",
    "\"Make a career of humanity. Commit yourself to the noble struggle for equal rights. You will make a better person of yourself, a greater nation of your country, and a finer world to live in.\""
   ]
  },
  {
   "cell_type": "code",
   "execution_count": 4,
   "id": "12a16e86-9b1b-4cf5-97b1-ac8b01c166d6",
   "metadata": {},
   "outputs": [
    {
     "name": "stdout",
     "output_type": "stream",
     "text": [
      "Hacer una carrera de la humanidad.Comprométate con la noble lucha por la igualdad de derechos.Harás una mejor persona de ti mismo, una nación más grande de tu país y un mundo más fino para vivir.\n"
     ]
    }
   ],
   "source": [
    "sentence = \"Make a career of humanity. Commit yourself to the noble struggle for equal rights. You will make a better person of yourself, a greater nation of your country, and a finer world to live in.\"\n",
    "target_langauge = 'es'\n",
    "\n",
    "trans1 = translate_sentence(sentence, target_langauge)\n",
    "print(trans1)"
   ]
  },
  {
   "cell_type": "markdown",
   "id": "daf0373e-686c-4372-a49c-a583620161c3",
   "metadata": {},
   "source": [
    "2. Now translate it from Spanish to Chinese\n",
    "2.5pts"
   ]
  },
  {
   "cell_type": "code",
   "execution_count": 6,
   "id": "ed3f5d0d-9129-4321-b1a2-43b14ccfd211",
   "metadata": {},
   "outputs": [
    {
     "name": "stdout",
     "output_type": "stream",
     "text": [
      "通過為平等權利而努力的人類職業。\n"
     ]
    }
   ],
   "source": [
    "#Your code here:\n",
    "\n",
    "sentence = trans1\n",
    "target_langauge = 'zh-TW' # code for traditional Chinese\n",
    "\n",
    "trans2 = translate_sentence(sentence, target_langauge)\n",
    "print(trans2)"
   ]
  },
  {
   "cell_type": "markdown",
   "id": "5a0f2361-5bd0-4bcb-9dc4-7ee6630cbabd",
   "metadata": {},
   "source": [
    "3. Now translate it from Chinese back to English.\n",
    "2.5pts"
   ]
  },
  {
   "cell_type": "code",
   "execution_count": 8,
   "id": "156fe134-2df9-4210-8444-6822b00aed6e",
   "metadata": {},
   "outputs": [
    {
     "name": "stdout",
     "output_type": "stream",
     "text": [
      "Human occupations that work hard for equal rights.\n"
     ]
    }
   ],
   "source": [
    "#Your code here:\n",
    "\n",
    "sentence = trans2\n",
    "target_langauge = 'en'\n",
    "\n",
    "trans3 = translate_sentence(sentence, target_langauge)\n",
    "print(trans3)"
   ]
  },
  {
   "cell_type": "markdown",
   "id": "5f22fb28-eb8c-4394-b291-22f695d04469",
   "metadata": {},
   "source": [
    "4. Now do the same thing with ChatGPT.\n",
    "\n",
    "2.5pts\n",
    "Eng to Sp: Sp to Chinese: Chinese to Eng:\n",
    "\n"
   ]
  },
  {
   "cell_type": "markdown",
   "id": "9600fdea-5472-4029-a301-5143b171c483",
   "metadata": {},
   "source": [
    "English to Spanish: \"Dedica tu vida a la humanidad. Comprométete con la noble lucha por los derechos iguales. Harás de ti una mejor persona, de tu país una nación más grande, y del mundo un lugar mejor para vivir.\"\n",
    "\n",
    "Spanish to Chinese: \"奉献你的生命于人类。致力于为平等权利的崇高斗争。你将成为一个更好的人，你的国家将成为一个更伟大的民族，世界也将成为一个更美好的居住之地。\"\n",
    "\n",
    "Chinese to English: \"Dedicate your life to humanity. Commit yourself to the noble struggle for equal rights. You will become a better person, your country will become a greater nation, and the world will become a better place to live.\""
   ]
  },
  {
   "cell_type": "markdown",
   "id": "95f22fc5-75b5-4e6e-8c2e-00291f468035",
   "metadata": {},
   "source": [
    "5. Describe the difference in quality and features of output:\n",
    "2.5pts"
   ]
  },
  {
   "cell_type": "markdown",
   "id": "90f45014-5aa0-4fab-b48f-a468d1261f06",
   "metadata": {},
   "source": [
    "Your answer here:\n",
    "\n",
    "ChatGPT's translation is much better! It seems that Google Translate loses a bit of meaning with each translation, and so the final English translation only sort of captures some of the words from the original sentence. ChatGPT's final English translation, however, communicates mostly the same meaning as the original sentence just with some wording changes."
   ]
  },
  {
   "cell_type": "markdown",
   "id": "2dcf5ad4-25ec-4eef-bc6a-bd480e64b65a",
   "metadata": {},
   "source": [
    " ## 7.  The Trump Card\n",
    "Here is a link to a speech made by former President Trump on January 6: https://www.npr.org/2021/02/10/966396848/read-trumps-jan-6-speech-a-key-part-of-impeachment-trial. Not all of the text is his speech. Some of the text is the analysis. Please extract Donald Trump's speech only, remove stopwords and perform a word frequency distribution and visualize it.\n",
    "20pts"
   ]
  },
  {
   "cell_type": "code",
   "execution_count": 14,
   "id": "4efcbb23-4d40-4e01-9d89-257d8024c15e",
   "metadata": {},
   "outputs": [
    {
     "name": "stdout",
     "output_type": "stream",
     "text": [
      "['By', 'Brian', 'Naylor', 'Then', '-', 'President', 'Donald', 'Trump', 'speaks', 'to', 'supporters', 'from', 'the', 'Ellipse', ',', 'near', 'the', 'White', 'House', ',', 'on', 'Jan', '.', '6', 'ahead', 'of', 'that', \"day's\", 'insurrection', 'at', 'the', 'Capitol', '.', 'His', 'comments', 'are', 'a', 'key', 'part', 'of', 'the', 'impeachment', 'trial', 'against', 'him', '.', 'Brendan', 'Smialowski', '/', 'AFP', 'via', 'Getty', 'Images', 'hide', 'caption', 'Then', '-', 'President', 'Donald', 'Trump', 'speaks', 'to', 'supporters', 'from', 'the', 'Ellipse', ',', 'near', 'the', 'White', 'House', ',', 'on', 'Jan', '.', '6', 'ahead', 'of', 'that', \"day's\", 'insurrection', 'at', 'the', 'Capitol', '.', 'His', 'comments', 'are', 'a', 'key', 'part', 'of', 'the', 'impeachment', 'trial', 'against', 'him', '.', 'Former', 'President']\n",
      "['anything', '.', 'Not', 'even', 'one', 'vote', '.', 'But', \"we're\", 'going', 'to', 'try', 'and', 'give', 'our', 'Republicans', ',', 'the', 'weak', 'ones', 'because', 'the', 'strong', 'ones', \"don't\", 'need', 'any', 'of', 'our', 'help', '.', \"We're\", 'going', 'to', 'try', 'and', 'give', 'them', 'the', 'kind', 'of', 'pride', 'and', 'boldness', 'that', 'they', 'need', 'to', 'take', 'back', 'our', 'country', '.', 'So', \"let's\", 'walk', 'down', 'Pennsylvania', 'Avenue', '.', 'I', 'want', 'to', 'thank', 'you', 'all', '.', 'God', 'bless', 'you', 'and', 'God', 'Bless', 'America', '.', 'Thank', 'you', 'all', 'for', 'being', 'here', '.', 'This', 'is', 'incredible', '.', 'Thank', 'you', 'very', 'much', '.', 'Thank', 'you', '.', 'Sponsor', 'Message', 'Become', 'an', 'NPR', 'sponsor']\n"
     ]
    }
   ],
   "source": [
    "#Your code here:\n",
    "\n",
    "import requests\n",
    "from bs4 import BeautifulSoup\n",
    "import re # I asked ChatGPT to make punctuation its own string rather than including it as part of the previous word - important for word frequency analysis\n",
    "\n",
    "base_url = 'https://www.npr.org/2021/02/10/966396848/read-trumps-jan-6-speech-a-key-part-of-impeachment-trial'\n",
    "r = requests.get(base_url)\n",
    "soup = BeautifulSoup(r.text)\n",
    "paragraphs = soup.find_all('p')\n",
    "\n",
    "# Initialize an empty list to store the text\n",
    "doc_words = []\n",
    "\n",
    "# Iterate through each paragraph\n",
    "for p in paragraphs:\n",
    "    # Get the text, strip whitespace, and split into words\n",
    "    text = p.get_text().strip()\n",
    "    # Use regex to split text into words (including apostrophes) and punctuation\n",
    "    words = re.findall(r\"\\b\\w+'\\w+|\\w+|[^\\w\\s]\", text)\n",
    "    # Extend the document list with the words\n",
    "    doc_words.extend(words)\n",
    "\n",
    "# Print the first 100 words and final 100 words to check above code\n",
    "print(doc_words[:100])\n",
    "print(doc_words[-100:])"
   ]
  },
  {
   "cell_type": "code",
   "execution_count": 15,
   "id": "9f1de7a0-6950-4934-bcf6-0932c25f09c8",
   "metadata": {},
   "outputs": [
    {
     "name": "stdout",
     "output_type": "stream",
     "text": [
      "345\n",
      "13417\n"
     ]
    }
   ],
   "source": [
    "# Find the index number of the string 'Well' - starts Trump speech\n",
    "index = doc_words.index('Well')\n",
    "print(index)\n",
    "\n",
    "# Find the index number of the string 'Sponsor' - ends Trump speech\n",
    "index2 = doc_words.index('Sponsor')\n",
    "print(index2)"
   ]
  },
  {
   "cell_type": "code",
   "execution_count": 16,
   "id": "7616b303-3ffb-4e1e-b6dd-5909c76be454",
   "metadata": {},
   "outputs": [
    {
     "name": "stdout",
     "output_type": "stream",
     "text": [
      "['Well', ',', 'thank', 'you', 'very', 'much', '.', 'This', 'is', 'incredible']\n",
      "['incredible', '.', 'Thank', 'you', 'very', 'much', '.', 'Thank', 'you', '.']\n"
     ]
    }
   ],
   "source": [
    "# Remove text that appears before the statement begins.  \n",
    "doc_words2 = doc_words[345:]\n",
    "\n",
    "# Print check - first 10 words\n",
    "print(doc_words2[:10])\n",
    "\n",
    "# Remove text that appears after the statement ends. I don't think the index number from above is quite right - not sure why this is??\n",
    "doc_words3 = doc_words2[:13072]\n",
    "\n",
    "# Print check - final 10 words\n",
    "print(doc_words3[-10:])"
   ]
  },
  {
   "cell_type": "code",
   "execution_count": 17,
   "id": "f178e11a-40cf-4412-83a6-3e222ef79b22",
   "metadata": {},
   "outputs": [
    {
     "name": "stdout",
     "output_type": "stream",
     "text": [
      "['well', 'thank', 'much', 'incredible', 'media', 'show', 'magnitude', 'crowd', 'even', 'turned', 'today', 'looked', 'saw', 'thousands', 'people', 'see', 'hundreds', 'thousands', 'people', 'behind', 'want', 'show', 'hundreds', 'thousands', 'people', 'want', 'recognized', 'fake', 'news', 'media', 'turn', 'cameras', 'please', 'show', \"what's\", 'really', 'happening', 'people', 'going', 'take', 'longer', \"they're\", 'going', 'take', 'longer', 'go', 'ahead', 'turn', 'cameras', 'please', 'would', 'show', 'came', 'world', 'actually', 'came', 'country', 'really', 'want', 'see', 'want', 'see', 'covered', \"i've\", 'never', 'seen', 'anything', 'like', 'would', 'really', 'great', 'could', 'covered', 'fairly', 'media', 'media', 'biggest', 'problem', 'far', \"i'm\", 'concerned', 'single', 'biggest', 'problem', 'fake', 'news', 'big', 'tech', 'big', 'tech', 'coming', 'beat', 'four', 'years', 'ago', 'surprised', 'took', 'surprise', 'year', 'rigged']\n"
     ]
    }
   ],
   "source": [
    "import nltk\n",
    "from nltk import FreqDist\n",
    "from nltk.tokenize import word_tokenize\n",
    "from nltk.corpus import stopwords\n",
    "\n",
    "# Convert all words in the text to lower case so they are no longer case sensitive\n",
    "doc_lower = [word.lower() for word in doc_words3]\n",
    "\n",
    "# Create list of stopwords\n",
    "stopwords = nltk.corpus.stopwords.words('english')\n",
    "\n",
    "# Add new stops - punctuation\n",
    "new_stops = [',', '.', '\"', '?', '000', ';']\n",
    "\n",
    "stopwords.extend(new_stops)\n",
    "\n",
    "# Remove stopwords from the text\n",
    "doc_clean = []\n",
    "\n",
    "for word in doc_lower:\n",
    "    if not word in stopwords:\n",
    "        doc_clean.append(word)\n",
    "\n",
    "# Print check - first 100 words\n",
    "print(doc_clean[:100])"
   ]
  },
  {
   "cell_type": "code",
   "execution_count": 18,
   "id": "1239b229-8d38-464c-98bd-b885929e3da7",
   "metadata": {},
   "outputs": [
    {
     "name": "stdout",
     "output_type": "stream",
     "text": [
      "[('people', 84), ('going', 73), ('want', 67), ('know', 58), ('get', 51), ('election', 44), ('country', 43), ('ballots', 43), ('got', 42), ('one', 41), ('votes', 41), ('go', 40), ('back', 40), (\"that's\", 39), ('said', 37), ('state', 36), (\"we're\", 35), ('right', 33), ('think', 33), (\"they're\", 32)]\n"
     ]
    }
   ],
   "source": [
    "# Display top 20 most frequently-appearing words\n",
    "\n",
    "fdist1 = FreqDist(doc_clean)\n",
    "\n",
    "fdist1_top20 = fdist1.most_common(20)\n",
    "print(fdist1_top20)\n"
   ]
  },
  {
   "cell_type": "code",
   "execution_count": 19,
   "id": "e446a342-7bb2-4e70-a5f4-27eddd94588c",
   "metadata": {},
   "outputs": [
    {
     "data": {
      "image/png": "[encoded data removed]",
      "text/plain": [
       "<Figure size 640x480 with 1 Axes>"
      ]
     },
     "metadata": {},
     "output_type": "display_data"
    }
   ],
   "source": [
    "# I had to consult ChatGPT and other online sources for this as there was no way to include an x-axis label building off the code snippet from class: print(fdist1.plot(20))\n",
    "\n",
    "import matplotlib.pyplot as plt\n",
    "\n",
    "# Separate the words and their frequencies\n",
    "words, frequencies = zip(*fdist1_top20)\n",
    "\n",
    "# Create the bar chart\n",
    "plt.bar(words, frequencies)\n",
    "\n",
    "# Set the title and labels\n",
    "plt.title('Top 20 Words Frequency Distribution')\n",
    "plt.xlabel('Words')\n",
    "plt.ylabel('Frequency')\n",
    "\n",
    "# Rotate x-axis labels for better visibility\n",
    "plt.xticks(rotation=45)\n",
    "\n",
    "# Show the plot\n",
    "plt.show()"
   ]
  },
  {
   "cell_type": "markdown",
   "id": "b78b87a8-223c-4dc0-a838-523871fb3a75",
   "metadata": {},
   "source": [
    "8. Here is a link to a github repo that contains Donald Trump's speeches: https://github.com/ryanmcdermott/trump-speeches/blob/master/speeches.txt\n",
    "   \n",
    "What are the 10 most common things Donald Trump \"loves?\"\n",
    "10pts"
   ]
  },
  {
   "cell_type": "code",
   "execution_count": 21,
   "id": "f78b97a7-618d-4fc2-969d-f72cdb7fd3d4",
   "metadata": {},
   "outputs": [
    {
     "name": "stdout",
     "output_type": "stream",
     "text": [
      "['\\ufeff', 'SPEECH', '1', '.', '.', '.', 'Thank', 'you', 'so', 'much', '.', \"That's\", 'so', 'nice', '.', \"Isn't\", 'he', 'a', 'great', 'guy', '.', 'He', \"doesn't\", 'get', 'a', 'fair', 'press', ';', 'he', \"doesn't\", 'get', 'it', '.', \"It's\", 'just', 'not', 'fair', '.', 'And', 'I', 'have', 'to', 'tell', 'you', \"I'm\", 'here', ',', 'and', 'very', 'strongly', 'here', ',', 'because', 'I', 'have', 'great', 'respect', 'for', 'Steve', 'King', 'and', 'have', 'great', 'respect', 'likewise', 'for', 'Citizens', 'United', ',', 'David', 'and', 'everybody', ',', 'and', 'tremendous', 'resect', 'for', 'the', 'Tea', 'Party', '.', 'Also', ',', 'also', 'the', 'people', 'of', 'Iowa', '.', 'They', 'have', 'something', 'in', 'common', '.', 'Hard', '-', 'working', 'people', '.']\n"
     ]
    }
   ],
   "source": [
    "#Your code and answer here:\n",
    "\n",
    "# Download .txt file from Github and open\n",
    "with open('trump_speeches.txt', 'r',  encoding = 'utf-8') as file:\n",
    "    speeches = file.read()\n",
    "\n",
    "# Initialize an empty list to store the words\n",
    "speech_words = []\n",
    "\n",
    "# Use regex to split the text into words (including apostrophes) and punctuation\n",
    "words = re.findall(r\"\\b\\w+'\\w+|\\w+|[^\\w\\s]\", speeches)\n",
    "\n",
    "# Extend the document list with the words\n",
    "speech_words.extend(words)\n",
    "\n",
    "# print check first 100 words\n",
    "print(speech_words[:100])"
   ]
  },
  {
   "cell_type": "code",
   "execution_count": 22,
   "id": "cc10e2b3-5fdf-45bf-89a4-06697cd9519f",
   "metadata": {},
   "outputs": [],
   "source": [
    "# Convert all words in the text to lower case so they are no longer case sensitive\n",
    "speech_lower = [word.lower() for word in speech_words]"
   ]
  },
  {
   "cell_type": "code",
   "execution_count": 23,
   "id": "3cf846e4-0205-4c34-b0e8-fa0fe093ec49",
   "metadata": {},
   "outputs": [
    {
     "name": "stdout",
     "output_type": "stream",
     "text": [
      "the people of iowa\n",
      "doing what i'm doing\n",
      "evangelicals\n",
      "the poorly educated\n",
      "the country\n",
      "the country\n",
      "this place\n",
      "this state\n",
      "las vegas\n",
      "you folks very much\n"
     ]
    }
   ],
   "source": [
    "# I adpated much of this code from ChatGPT.\n",
    "# I asked ChaptGPT to \"pull out the string combo 'i', 'love' and print out the subsequent strings that appear until some sort of punctuation appears ('.', ',', '?', ';')\"\n",
    "\n",
    "# Empty list to store results\n",
    "results = []\n",
    "\n",
    "# Iterate through the list of words\n",
    "for i in range(len(speech_lower) - 1):\n",
    "    if speech_lower[i] == 'i' and speech_lower[i+1] == 'love':\n",
    "        # Start collecting words after 'i' and 'love'\n",
    "        phrase = []\n",
    "        j = i + 2  # Start after 'love'\n",
    "        while j < len(speech_lower) and re.match(r'[^\\.,\\?;]', speech_lower[j]):  # Stop at punctuation\n",
    "            phrase.append(speech_lower[j])\n",
    "            j += 1\n",
    "        results.append(' '.join(phrase))\n",
    "\n",
    "# Print the first 10 results\n",
    "for result in results [:10]:\n",
    "    print(result)"
   ]
  },
  {
   "cell_type": "code",
   "execution_count": 24,
   "id": "5b587979-b5ac-4e5a-bfef-90d465fdb075",
   "metadata": {},
   "outputs": [
    {
     "name": "stdout",
     "output_type": "stream",
     "text": [
      "I love you: 7 times\n",
      "I love it: 7 times\n",
      "I love them: 6 times\n",
      "I love china: 5 times\n",
      "I love you too: 5 times\n",
      "I love the people: 5 times\n",
      "I love you all: 5 times\n",
      "I love : 4 times\n",
      "I love mexico: 4 times\n",
      "I love the hispanics: 3 times\n"
     ]
    }
   ],
   "source": [
    "# Frequency distribution of the results\n",
    "fdist2 = FreqDist(results)\n",
    "\n",
    "# Get the top 10 most common phrases\n",
    "top_10_phrases = fdist2.most_common(10)\n",
    "\n",
    "# Print the top 10 most common 'I love' phrases\n",
    "for phrase, count in top_10_phrases:\n",
    "    print(f\"I love {phrase}: {count} times\")"
   ]
  },
  {
   "cell_type": "markdown",
   "id": "c07782a4-2931-4e23-bb33-b9fab29182ca",
   "metadata": {},
   "source": [
    "9. Which are the top 5 countries Trump mentions in his speeches, besides America or the United States of America?\n",
    "10pts"
   ]
  },
  {
   "cell_type": "code",
   "execution_count": 26,
   "id": "bdb639d1-6f9e-444c-8248-75b74bf569c7",
   "metadata": {},
   "outputs": [],
   "source": [
    "#Your code and answer here:\n",
    "\n",
    "# I asked ChatGPT to generate a list of lower case country names as strings. I manually removed the string 'united states'.\n",
    "\n",
    "countries = [\n",
    "    \"afghanistan\", \"albania\", \"algeria\", \"andorra\", \"angola\", \"antigua and barbuda\", \"argentina\", \"armenia\", \"australia\", \"austria\", \n",
    "    \"azerbaijan\", \"bahamas\", \"bahrain\", \"bangladesh\", \"barbados\", \"belarus\", \"belgium\", \"belize\", \"benin\", \"bhutan\", \n",
    "    \"bolivia\", \"bosnia and herzegovina\", \"botswana\", \"brazil\", \"brunei\", \"bulgaria\", \"burkina faso\", \"burundi\", \"cabo verde\", \n",
    "    \"cambodia\", \"cameroon\", \"canada\", \"central african republic\", \"chad\", \"chile\", \"china\", \"colombia\", \"comoros\", \n",
    "    \"congo, democratic republic of the\", \"congo, republic of the\", \"costa rica\", \"croatia\", \"cuba\", \"cyprus\", \n",
    "    \"czech republic\", \"denmark\", \"djibouti\", \"dominica\", \"dominican republic\", \"east timor\", \"ecuador\", \"egypt\", \n",
    "    \"el salvador\", \"equatorial guinea\", \"eritrea\", \"estonia\", \"eswatini\", \"ethiopia\", \"fiji\", \"finland\", \"france\", \n",
    "    \"gabon\", \"gambia\", \"georgia\", \"germany\", \"ghana\", \"greece\", \"grenada\", \"guatemala\", \"guinea\", \"guinea-bissau\", \n",
    "    \"guyana\", \"haiti\", \"honduras\", \"hungary\", \"iceland\", \"india\", \"indonesia\", \"iran\", \"iraq\", \"ireland\", \n",
    "    \"israel\", \"italy\", \"jamaica\", \"japan\", \"jordan\", \"kazakhstan\", \"kenya\", \"kiribati\", \"korea, north\", \"korea, south\", \n",
    "    \"kosovo\", \"kuwait\", \"kyrgyzstan\", \"laos\", \"latvia\", \"lebanon\", \"lesotho\", \"liberia\", \"libya\", \"liechtenstein\", \n",
    "    \"lithuania\", \"luxembourg\", \"madagascar\", \"malawi\", \"malaysia\", \"maldives\", \"mali\", \"malta\", \"marshall islands\", \n",
    "    \"mauritania\", \"mauritius\", \"mexico\", \"micronesia\", \"moldova\", \"monaco\", \"mongolia\", \"montenegro\", \"morocco\", \n",
    "    \"mozambique\", \"myanmar\", \"namibia\", \"nauru\", \"nepal\", \"netherlands\", \"new zealand\", \"nicaragua\", \"niger\", \n",
    "    \"nigeria\", \"north macedonia\", \"norway\", \"oman\", \"pakistan\", \"palau\", \"panama\", \"papua new guinea\", \"paraguay\", \n",
    "    \"peru\", \"philippines\", \"poland\", \"portugal\", \"qatar\", \"romania\", \"russia\", \"rwanda\", \"saint kitts and nevis\", \n",
    "    \"saint lucia\", \"saint vincent and the grenadines\", \"samoa\", \"san marino\", \"sao tome and principe\", \"saudi arabia\", \n",
    "    \"senegal\", \"serbia\", \"seychelles\", \"sierra leone\", \"singapore\", \"slovakia\", \"slovenia\", \"solomon islands\", \"somalia\", \n",
    "    \"south africa\", \"south sudan\", \"spain\", \"sri lanka\", \"sudan\", \"suriname\", \"sweden\", \"switzerland\", \"syria\", \n",
    "    \"taiwan\", \"tajikistan\", \"tanzania\", \"thailand\", \"togo\", \"tonga\", \"trinidad and tobago\", \"tunisia\", \"turkey\", \n",
    "    \"turkmenistan\", \"tuvalu\", \"uganda\", \"ukraine\", \"united arab emirates\", \"united kingdom\", \n",
    "    \"uruguay\", \"uzbekistan\", \"vanuatu\", \"vatican city\", \"venezuela\", \"vietnam\", \"yemen\", \"zambia\", \"zimbabwe\"\n",
    "]"
   ]
  },
  {
   "cell_type": "code",
   "execution_count": 27,
   "id": "486c7c22-6834-4a33-9ef3-9e8c934aff29",
   "metadata": {},
   "outputs": [
    {
     "name": "stdout",
     "output_type": "stream",
     "text": [
      "['china', 'china', 'china', 'mexico', 'china', 'iraq', 'iran', 'iran', 'syria', 'syria']\n"
     ]
    }
   ],
   "source": [
    "# Initialize a list to store countries mentioned in Trump's speeches\n",
    "found_countries = []\n",
    "\n",
    "# Iterate over every word in speech_lower\n",
    "for word in speech_lower:\n",
    "    # If the word is in countries_lowercase, add it to the found_countries list\n",
    "    if word in countries:\n",
    "        found_countries.append(word)\n",
    "\n",
    "# Print a list of the first 10 found countries\n",
    "print(found_countries[:10])"
   ]
  },
  {
   "cell_type": "code",
   "execution_count": 28,
   "id": "30ee6626-f5ff-41db-9fa4-a91aa3d1626e",
   "metadata": {},
   "outputs": [
    {
     "name": "stdout",
     "output_type": "stream",
     "text": [
      "Country: china, Number of appearances: 200\n",
      "Country: mexico, Number of appearances: 159\n",
      "Country: iran, Number of appearances: 91\n",
      "Country: israel, Number of appearances: 84\n",
      "Country: iraq, Number of appearances: 72\n"
     ]
    }
   ],
   "source": [
    "# Frequency distribution of the countries\n",
    "fdist3 = FreqDist(found_countries)\n",
    "\n",
    "# Top 5 most frequently appearing countries\n",
    "top_5_countries = fdist3.most_common(5)\n",
    "\n",
    "# Print the top 5 most frequently appearing countries and the number of times they appear\n",
    "for country, count in top_5_countries:\n",
    "    print(f\"Country: {country}, Number of appearances: {count}\")"
   ]
  },
  {
   "cell_type": "markdown",
   "id": "025cea9c-b4d6-47a4-8910-826c521d594b",
   "metadata": {},
   "source": [
    "\n",
    " In class we talked about tokenizing sentences into words, or parsing texts by single words(unigrams), or two words(bigrams). But you can also tokenize by sentences. Here is some sample code:\n"
   ]
  },
  {
   "cell_type": "code",
   "execution_count": 30,
   "id": "5b9af68c-a8e1-4d1e-ab49-e791d071bf3a",
   "metadata": {},
   "outputs": [
    {
     "name": "stdout",
     "output_type": "stream",
     "text": [
      "['This is the first sentence.', 'This is the second sentence.']\n"
     ]
    }
   ],
   "source": [
    "import nltk\n",
    "from nltk.tokenize import sent_tokenize\n",
    "\n",
    "text = \"This is the first sentence. This is the second sentence.\"\n",
    "sentences = sent_tokenize(text)\n",
    "\n",
    "print(sentences)"
   ]
  },
  {
   "cell_type": "markdown",
   "id": "7481e654-f253-4573-948b-0cf63d2b22c7",
   "metadata": {},
   "source": [
    "In class we talked about final projects and I suggested one of the interesting uses of this technology is to consider conventional thinking on some subject and use Python to more comprehensively and critically evaluate that thinking. We touched on \"political thinking\" as a good place to apply Python language analyses. In political speeches, certain sentences or phrases are repeated to show a candidates coaching, focus or in marketing terms, \"messaging.\" \n",
    "\n",
    "Here is an analyis from https://www.vox.com/2016/8/18/12423688/donald-trump-speech-style-explained-by-linguists of the \"salesman\" techniques that Trump uses: \"Trump’s speeches can be appealing because he uses a lot of salesmen’s tricks. Lakoff, for his part, has an explanation for why Trump’s style of speaking is so appealing to many. Many of Trump’s most famous catchphrases are actually versions of time-tested speech mechanisms that salesmen use. They’re powerful because they help shape our unconscious. Take, for example, Trump’s frequent use of \"Many people are saying...\" or \"Believe me\" — often right after saying something that is baseless or untrue. This tends to sound more trustworthy to listeners than just outright stating the baseless claim, since Trump implies that he has direct experience with what he’s talking about. At a base level, Lakoff argues, people are more inclined to believe something that seems to have been shared. Or when Trump keeps calling Clinton \"crooked,\" or keeps referring to terrorists as \"radical Muslims,\" he’s strengthening the association through repetition. He also calls his supporters \"folks,\" to show he is one of them (though many politicians employ this trick). Trump doesn’t repeat phrases and adjectives because he is stalling for time, Liberman says; for the most part, he’s providing emphasis and strengthening the association. These are normal techniques, particularly in conversational speech. \"Is he reading cognitive science? No. He has 50 years of experience as a salesman who doesn’t care who he is selling to,\" Lakoff says. On this account, Trump uses similar methods in his QVC-style pitch of steaks and vodka as when he talks about his plan to stop ISIS.\"He has been doing this for a very long time as a salesman — that’s what he is best at,\" Lakoff says.\"  \n",
    "*This is not to say I agree or disagree with this analysis.*  This is just one example of what we touched on in class. "
   ]
  },
  {
   "cell_type": "markdown",
   "id": "a96e1cb4-90b1-4f3e-9948-6ec6935401ea",
   "metadata": {},
   "source": [
    "10. Perform a frequency analysis that provides evidence for or against the assertion made in the Vox article.\n",
    "Consider tokenizing by unigram (one word), bigram(two words), trigram(three words) or more, or whole sentences or multiple approaches that help us understand the most common Trump linguistic characteristcs. Use your evidence and words to describe what you found. This is a fairly open ask. Don't just execute code. Tell me and show me something interesting!\n",
    "20pts"
   ]
  },
  {
   "cell_type": "code",
   "execution_count": 33,
   "id": "68933a0b-53da-465c-99f3-5c4bf1a3212b",
   "metadata": {},
   "outputs": [
    {
     "name": "stdout",
     "output_type": "stream",
     "text": [
      "['\\ufeff', 'speech', '1', 'thank', 'much', \"that's\", 'nice', 'great', 'guy', 'get', 'fair', 'press', 'get', 'fair', 'tell', \"i'm\", 'strongly', 'great', 'respect', 'steve', 'king', 'great', 'respect', 'likewise', 'citizens', 'united', 'david', 'everybody', 'tremendous', 'resect', 'tea', 'party', 'also', 'also', 'people', 'iowa', 'something', 'common', 'hard', 'working', 'people', 'want', 'work', 'want', 'make', 'country', 'great', 'love', 'people', 'iowa']\n"
     ]
    }
   ],
   "source": [
    "#Your code and response here:\n",
    "\n",
    "# First, start by analyzing unigrams, bigrams, and trigrams\n",
    "\n",
    "## Remove stopwords from Trump's speeches (original list already augmented in previous code)\n",
    "\n",
    "# Add new stops - punctuation\n",
    "new_stops = ['’', '–', '—', '-', '$']\n",
    "\n",
    "stopwords.extend(new_stops)\n",
    "\n",
    "# Remove stopwords\n",
    "\n",
    "clean_speech = []\n",
    "\n",
    "for word in speech_lower:\n",
    "    if not word in stopwords:\n",
    "        clean_speech.append(word)\n",
    "\n",
    "print(clean_speech[:50])"
   ]
  },
  {
   "cell_type": "code",
   "execution_count": 34,
   "id": "0bb083d4-19bf-4ed3-9b15-037bd0ffdde3",
   "metadata": {},
   "outputs": [
    {
     "name": "stdout",
     "output_type": "stream",
     "text": [
      "[('going', 2055), ('people', 1338), ('know', 1315), ('said', 774), ('want', 760), ('great', 689), ('get', 633), ('like', 629), ('think', 626), ('one', 603), ('country', 535), ('say', 511), ('right', 501), ('look', 401), ('go', 392), ('money', 391), ('lot', 378), ('many', 367), ('got', 367), ('good', 357)]\n"
     ]
    }
   ],
   "source": [
    "# Analyze unigrams\n",
    "\n",
    "fdist4 = FreqDist(clean_speech)\n",
    "\n",
    "fdist4_top20 = fdist4.most_common(20)\n",
    "print(fdist4_top20)"
   ]
  },
  {
   "cell_type": "code",
   "execution_count": 35,
   "id": "a495ca72-126b-4678-a18b-8b4f3bda4884",
   "metadata": {},
   "outputs": [
    {
     "name": "stdout",
     "output_type": "stream",
     "text": [
      "[(('united', 'states'), 118), ((\"we're\", 'going'), 117), (('going', 'happen'), 100), (('hillary', 'clinton'), 98), (('going', 'get'), 97), (('going', 'win'), 95), (('going', 'make'), 93), (('think', 'going'), 72), (('take', 'care'), 69), (('years', 'ago'), 65), (('make', 'america'), 65), (('number', 'one'), 63), (('thank', 'much'), 61), (('going', 'take'), 61), (('many', 'people'), 54), (('people', 'know'), 53), (('america', 'great'), 52), (('lot', 'money'), 49), (('lot', 'people'), 48), (('know', 'going'), 48)]\n"
     ]
    }
   ],
   "source": [
    "# Analyze bigrams\n",
    "\n",
    "fdist_by2 = list(nltk.bigrams(clean_speech))\n",
    "fdist5 = FreqDist(fdist_by2)\n",
    "\n",
    "fdist5_top20 = fdist5.most_common(20)\n",
    "print(fdist5_top20)"
   ]
  },
  {
   "cell_type": "code",
   "execution_count": 36,
   "id": "a7783ab3-daaf-48d3-a0e1-f63f77429efa",
   "metadata": {},
   "outputs": [
    {
     "name": "stdout",
     "output_type": "stream",
     "text": [
      "[(('make', 'america', 'great'), 48), (('going', 'take', 'care'), 39), (('going', 'build', 'wall'), 20), (('make', 'country', 'great'), 19), (('going', 'happen', 'going'), 19), (('going', 'make', 'america'), 18), (('thank', 'much', 'everybody'), 17), (('going', 'pay', 'wall'), 17), (('going', 'bring', 'back'), 17), (('going', 'get', 'rid'), 17), (('take', 'care', 'vets'), 15), (('(', 'ph', ')'), 15), (('thank', 'thank', 'much'), 14), (('mexico', 'going', 'pay'), 14), (('going', 'make', 'country'), 14), (('bring', 'jobs', 'back'), 14), (('going', 'happen', 'anymore'), 14), (('going', 'win', 'going'), 14), (('going', 'start', 'winning'), 13), (('happen', 'going', 'happen'), 13)]\n"
     ]
    }
   ],
   "source": [
    "# Analyze trigrams\n",
    "\n",
    "fdist_by3 = list(nltk.trigrams(clean_speech))\n",
    "fdist6 = FreqDist(fdist_by3)\n",
    "\n",
    "fdist6_top20 = fdist6.most_common(20)\n",
    "print(fdist6_top20)"
   ]
  },
  {
   "cell_type": "code",
   "execution_count": 37,
   "id": "e2c10cca-0af4-411c-8874-d9ed7b16f649",
   "metadata": {},
   "outputs": [
    {
     "name": "stdout",
     "output_type": "stream",
     "text": [
      "['\\ufeffspeech', '1', '...', 'thank', 'you', 'so', 'much', '.']\n",
      "['that', \"'s\", 'so', 'nice', '.']\n",
      "['is', \"n't\", 'he', 'a', 'great', 'guy', '.']\n",
      "['he', 'does', \"n't\", 'get', 'a', 'fair', 'press', ';', 'he', 'does', \"n't\", 'get', 'it', '.']\n",
      "['it', \"'s\", 'just', 'not', 'fair', '.']\n"
     ]
    }
   ],
   "source": [
    "# Tokenize speeches by sentence\n",
    "sentences = nltk.sent_tokenize(speeches)\n",
    "\n",
    "# Initialize a list to store tokenized sentences\n",
    "tokenized_sentences = []\n",
    "\n",
    "# Tokenize each sentence into words\n",
    "for sentence in sentences:\n",
    "    words = nltk.word_tokenize(sentence)\n",
    "    words_lower = [word.lower() for word in words]  # Convert each word to lowercase\n",
    "    tokenized_sentences.append(words_lower)\n",
    "\n",
    "# Print the first 5 tokenized sentences to check\n",
    "for tokenized_sentence in tokenized_sentences[:5]:\n",
    "    print(tokenized_sentence)"
   ]
  },
  {
   "cell_type": "code",
   "execution_count": 167,
   "id": "e85847cf-87f2-4ad7-8fe9-4f58a3976e48",
   "metadata": {},
   "outputs": [
    {
     "name": "stdout",
     "output_type": "stream",
     "text": [
      "93\n",
      "['Fences are easy, believe me.', 'Believe me if I did something you would have a border that would be great.', 'And believe me there are plans that are so much better for everybody.', 'I’m the only one — believe me, I know them all, I’m the only one who knows how to fix it.', 'And believe me, we have groups that no matter what you do, they will be the enemy.', 'Believe me.', 'Believe me.', 'They are not our friend, believe me.', 'They will not bring us — believe me — to the promised land.', 'Believe me, folks.', 'And believe me, you look at the border with Yemen.', 'Believe me.', 'Reduce our $18 trillion in debt, because, believe me, we’re in a bubble.', 'We have the greatest business leaders in the world on my team already and, believe me, we’re going to redo those trade deals and it’s going to be a thing of beauty.', 'I know people are going to find that a little bit hard to believe, but believe me, I am a unifier.']\n"
     ]
    }
   ],
   "source": [
    "#tried running this code with the target phrase ['many', 'people', 'are', 'saying']\n",
    "\n",
    "# Define the target phrase\n",
    "target_phrase = ['believe', 'me']\n",
    "\n",
    "# Find sentences that contain the exact phrase\n",
    "matching_sentences = []\n",
    "\n",
    "for sentence in sentences:\n",
    "    words = nltk.word_tokenize(sentence)\n",
    "    words_lower = [word.lower() for word in words]  # Convert to lowercase\n",
    "    \n",
    "    # Check if the target phrase appears in the words in the same order\n",
    "    for i in range(len(words_lower) - len(target_phrase) + 1):\n",
    "        if words_lower[i:i+len(target_phrase)] == target_phrase:\n",
    "            matching_sentences.append(sentence)\n",
    "            break  # No need to check further in this sentence\n",
    "\n",
    "# Print the matching sentences\n",
    "print(len(matching_sentences))\n",
    "print(matching_sentences[:15])"
   ]
  },
  {
   "cell_type": "code",
   "execution_count": 211,
   "id": "5e83e863-ef7d-4cc4-bade-08cb507762f0",
   "metadata": {},
   "outputs": [
    {
     "name": "stdout",
     "output_type": "stream",
     "text": [
      "['nothing ever happens', 'they were lost', 'be very careful', 'think of it', 'and i said', 'we love nevada', 'both of them', 'we love you', 'all the time', 'the real number']\n",
      "101\n",
      "66\n",
      "25\n",
      "17\n",
      "8\n"
     ]
    }
   ],
   "source": [
    "# Find repeated phrases throughout Trump's speeches\n",
    "\n",
    "import re\n",
    "\n",
    "def find_repeated_phrases(text, phrase_length):\n",
    "    ''' function to find repeated phrases in a string '''\n",
    "    # Define a regular expression pattern to match repeated phrases (words/phrases)\n",
    "    pattern = r'\\b((?:\\w+\\s+){' + str(phrase_length-1) + r'}\\w+)\\b(?:\\s+\\1\\b)+'\n",
    "    \n",
    "    # Find all repeated phrases using the regular expression\n",
    "    repeated_phrases = re.findall(pattern, text, re.IGNORECASE)\n",
    "    \n",
    "    return repeated_phrases\n",
    "\n",
    "# Create a list of punctuation to remove\n",
    "\n",
    "remove_punc = [',', '.', '\"', '?', '000', ';']\n",
    "\n",
    "# Remove punctuation from the speeches\n",
    "speech_clean = []\n",
    "\n",
    "for word in speech_lower:\n",
    "    if not word in remove_punc:\n",
    "        speech_clean.append(word)\n",
    "\n",
    "# Join the contents of speech_clean (list of strings) into a single string\n",
    "single_string = ' '.join(speech_clean)\n",
    "\n",
    "# Call the function and store the result with different values in phrase_length\n",
    "repeat3 = find_repeated_phrases(single_string, phrase_length = 3)\n",
    "repeat4 = find_repeated_phrases(single_string, phrase_length = 4)\n",
    "repeat5 = find_repeated_phrases(single_string, phrase_length = 5)\n",
    "repeat6 = find_repeated_phrases(single_string, phrase_length = 6)\n",
    "repeat7 = find_repeated_phrases(single_string, phrase_length = 7)\n",
    "\n",
    "# Print the first 10 3-word repeated phrases to check\n",
    "print(repeat3[:10])\n",
    "\n",
    "# Print the number of times each phrase of a certain length is repeated\n",
    "\n",
    "print(len(repeat3))\n",
    "print(len(repeat4))\n",
    "print(len(repeat5))\n",
    "print(len(repeat6))\n",
    "print(len(repeat7))\n"
   ]
  },
  {
   "cell_type": "markdown",
   "id": "6071e780-f0db-48c8-91b7-05cee35f7eb7",
   "metadata": {},
   "source": [
    "There is good supporting evidence that Trump makes use of repetition to make voters believe he is more trustworthy/competent. Trigram analysis reveals the high frequency of classic Trump slogans such as \"Make American Great Again\" and that we are \"going to build a wall\" and that Mexico is \"going to pay for it.\" Additionally, he is going to \"bring jobs back.\" Surprisingly, there is no evidence of Trump stating the phrase \"many people are saying...\" in this selection of speeches, but he says the phrase \"believe me\" quite a bit (93 times in this selection of speeches). Trump uses subsequent repetition of phrases A LOT. In this selection of speeches, he repeats the same 4-word phrase one after another 66 times. He does this 25 times for 5-word phrases and 17 times for 6-word phrases. While I would be curious to compare this frequency of phrase repetition with other politicians, Trump seems to use this rhetorical technique quite a bit."
   ]
  },
  {
   "cell_type": "markdown",
   "id": "7e0bd617-57e6-4f8f-bf44-3aba3ebb671c",
   "metadata": {},
   "source": [
    "## 6. Mired in Mango Madness ##\n",
    "20pts\n",
    "\n",
    "Congratulations! In your last semester at Yale, you got a job at the World Bank ! \n",
    "\n",
    "Your first assignment is to address the dearth of good data in Mali on Mango quality and production. Your boss put you on a plane to Mali during the harvest season. You are excited, not only because your boss is annoying and wears too much cologne, but international travel is part of the excitement of an international job. You are excited to see the Great Mosque of Djenne, to watch the sunset from the Bandiagara Cliffs, and to dance the night away to  at Le Byblos. Oh yeah, there is the work too. After a particular \"rough\" night you meet with your colleagues at the office.  You thought you'd be able to just get by making eye contact and nodding while they did most of the work. After all, you are new to the role. No such luck. Your colleagues are thrilled that you can solve their problems by creating an automated call center. Their exact words are, \"The Harvard grad ended up quitting, I'm glad we have someone from Yale here to make things right.\"\n",
    "\n",
    "You are given an office and a computer. You may have slightly overstated your Python coding skills to get the job, but too late now. They ask if you mind if they watch you code. You tell them that you prefer to work alone, although ask them to lunch later to soften the push back. After the initial panic and hangover subsides you think back to your days in intermediate python at Yale, the encouraging words of your caring but demanding prof,  and then a light flashes in your mind and you think, \"I got this.\" \n",
    "\n",
    "You've been tasked with the goal of setting up an automated call center to get data on current market prices, production and quality. There are growers who are both collectives who report these factors, and also smaller growers! Unfortunately, some of these are incentivized to underreport production and prices under the assumption that they will receive more foreign aid. Not all of them though! It's estimated that 10-20% of the self-reporting is innacurate. Callers call the center. Words are processed from speech to text. Text is processed, converted back to speech and then communicated to the caller. \n",
    "\n",
    "There are a few challenges you face: \n",
    "1. The speech to text algo was trained on French, but most of the farmers who call in speak Bambara. You must translate from Bambara to French, and then French to English, because your boss doesn't speak French and wants things in English and is completely unreasonable.\n",
    "2. Sometimes the call just ends, sometimes words are sporadic, sometimes the algo. confuses the word \"child\" and the word \"mango\"\n",
    "3. The call in number was once the number for the infant health hotline. People still use the number to try to get immediate emergency care for their infant. Their calls must be redirected or children could die and it would be your fault, not to mention an international incident.\n",
    "4. The call number is often called by fans and musicians who are given the number by directory assistance because there is a music production company called Mango Mali, a fledgling world music group that markets music from Mali to France.\n",
    "5. You must try to identify who is lying about their crop yield quality and prices.\n",
    "\n",
    "\n",
    "**YOUR MISSION**\n",
    "\n",
    "Write code that accepts the number as an input and then collects user input(in Bambara), translates it to French, and then outputs the data to a csv file in English. Please make sure you write code that addresses the challenges above (1-5). \n",
    "Create use cases to demonstrate that your code works and that you have addressed the basic use case, and that you have addressed challenges 1-5."
   ]
  },
  {
   "cell_type": "markdown",
   "id": "5b14778d-2c0a-4fce-976c-963202c2c59a",
   "metadata": {},
   "source": [
    "Notes: Googletrans does not support Bambara, so I used Spanish as the language of origin instead to show that I could translate from Bambara to French to English if the package supported the langauge. Additionally, I very frequently would get the error \"TypeError: the JSON object must be str, bytes or bytearray, not NoneType.\" within my translator function. I have no idea why this is, but if I just re-run the cell a few times it usually resolves itself. It is, however, incredibly annoying!!! I'm not sure if this is a problem with my code or googletrans, but I've also included a standalone cell with just the translation code if you are able to diagnose the issue. \n",
    "\n",
    "The correct call center number is 555-555-5555."
   ]
  },
  {
   "cell_type": "code",
   "execution_count": 161,
   "id": "0acfb53d-87e2-41f7-822e-391b36ae19a7",
   "metadata": {},
   "outputs": [
    {
     "name": "stdin",
     "output_type": "stream",
     "text": [
      "Gracias por llamar a Mali Mango Farmers Inc. ¿Cuál es el motivo de su llamada? (Translation: Thank you for calling Mali Mango Farmers Inc. What is your reason for calling?)  tengo una emergencia de mango\n"
     ]
    },
    {
     "name": "stdout",
     "output_type": "stream",
     "text": [
      "I have a mango emergency\n"
     ]
    }
   ],
   "source": [
    "from googletrans import Translator\n",
    "\n",
    "# Initialize the translator\n",
    "translator = Translator()\n",
    "\n",
    "# Function to handle translation from Spanish to French to English\n",
    "def translate_spanish_to_english(spanish_input):\n",
    "    ''' translation from Spanish to French to English '''\n",
    "    french_translation = translator.translate(spanish_input, src='es', dest='fr')\n",
    "    french_text = french_translation.text\n",
    "    \n",
    "    english_translation = translator.translate(french_text, src='fr', dest='en')\n",
    "    english_text = english_translation.text  # Store the English text\n",
    "\n",
    "    return english_text\n",
    "\n",
    "# Get input from the user\n",
    "spanish_input = input(\"Gracias por llamar a Mali Mango Farmers Inc. ¿Cuál es el motivo de su llamada? (Translation: Thank you for calling Mali Mango Farmers Inc. What is your reason for calling?) \")\n",
    "            \n",
    "# Translate to English\n",
    "english = translate_spanish_to_english(spanish_input)\n",
    "\n",
    "# Print the translated text\n",
    "print(english)"
   ]
  },
  {
   "cell_type": "code",
   "execution_count": 163,
   "id": "8d7c1cf0-2e00-495f-91cb-72cb5a5fb831",
   "metadata": {},
   "outputs": [
    {
     "name": "stdout",
     "output_type": "stream",
     "text": [
      "Simulating a call...\n"
     ]
    },
    {
     "name": "stdin",
     "output_type": "stream",
     "text": [
      "Por favor introduzca un número de teléfono: (Translation: Please enter a phone number:)  555-555-5555\n",
      "Gracias por llamar a Mali Mango Farmers Inc. ¿Cuál es el motivo de su llamada? (Translation: Thank you for calling Mali Mango Farmers Inc. What is your reason for calling?)  tengo una emergencia de mango\n",
      "¿Está intentando comunicarse con la línea directa de salud infantil? ¿Sí o no? (Translation: Are you trying to reach the infant health hotline? Yes or no?)  no\n",
      "Gracias por llamar a Mali Mango Farmers Inc. ¿Cuál es el motivo de su llamada? (Translation: Thank you for calling Mali Mango Farmers Inc. What is your reason for calling?)  mango\n",
      "¿Es usted un agricultor de mangos? ¿Sí o no? (Translation: Are you a mango farmer? Yes or no?)  si\n",
      "¿Cuántas fanegas de mangos cosechaste el mes pasado? (Translation: How many bushels of mangos did you harvest last month)?  200\n",
      "¿A cuánto vendiste cada bushel (en francos CFA de África Occidental)? (Translation: How much did you sell each bushel for (in West African CFA francs)?)  30\n",
      "¿Cuál fue la calidad de su cosecha en una escala del 1 al 5 (1 es una mala cosecha y 5 es una gran cosecha)? (Translation: What was the quality of your harvest on a scale of 1-5 (1 is a poor harvest and 5 is a great harvest)?)  3\n",
      "¿Cuántos trabajadores emplea su granja? (Translation: How many workers are employed by your farm?)  30\n"
     ]
    },
    {
     "name": "stdout",
     "output_type": "stream",
     "text": [
      "Result: Datos guardados exitosamente. Gracias por informar sobre su cosecha de mango. (Translation: Data saved successfully. Thank you for reporting your mango harvest.)\n"
     ]
    }
   ],
   "source": [
    "from googletrans import Translator\n",
    "\n",
    "# Initialize translator\n",
    "translator = Translator()\n",
    "\n",
    "def translate_spanish_to_english(spanish_input):\n",
    "    '''' translation from Spanish to French to English '''\n",
    "    french_translation = translator.translate(spanish_input, src='es', dest='fr')\n",
    "    french_text = french_translation.text\n",
    "    english_translation = translator.translate(french_text, src='fr', dest='en')\n",
    "    return english_translation.text\n",
    "\n",
    "def categorize_call(input_tokens):\n",
    "    ''' categorize call based on key words '''\n",
    "    if \"child\" in input_tokens or \"emergency\" in input_tokens:\n",
    "        return \"emergency\"\n",
    "    elif \"music\" in input_tokens:\n",
    "        return \"music\"\n",
    "    elif \"mango\" in input_tokens or \"mangoes\" in input_tokens:\n",
    "        return \"mango_farmer\"\n",
    "    else:\n",
    "        return \"unknown\"\n",
    "\n",
    "def collect_mango_farmer_data():\n",
    "    ''' collect mango farmer data'''\n",
    "    while True:\n",
    "        try:\n",
    "            bushels = int(input(\"¿Cuántas fanegas de mangos cosechaste el mes pasado? (Translation: How many bushels of mangos did you harvest last month)? \"))\n",
    "            price_per_bushel = float(input(\"¿A cuánto vendiste cada bushel (en francos CFA de África Occidental)? (Translation: How much did you sell each bushel for (in West African CFA francs)?) \"))\n",
    "            harvest_quality = int(input(\"¿Cuál fue la calidad de su cosecha en una escala del 1 al 5 (1 es una mala cosecha y 5 es una gran cosecha)? (Translation: What was the quality of your harvest on a scale of 1-5 (1 is a poor harvest and 5 is a great harvest)?) \"))\n",
    "            num_workers = int(input(\"¿Cuántos trabajadores emplea su granja? (Translation: How many workers are employed by your farm?) \"))\n",
    "\n",
    "            # Investigate farms with suspiciously low yields or prices for the size of the farm (I created arbitrary numbers)\n",
    "            if num_workers >= 20:\n",
    "                investigate = 1 if (bushels < 100 and price_per_bushel < 1000) else 0\n",
    "            else:\n",
    "                investigate = 1 if (bushels < 30 and price_per_bushel < 750) else 0\n",
    "\n",
    "            return [bushels, price_per_bushel, harvest_quality, num_workers, investigate]\n",
    "        except ValueError:\n",
    "            print(\"Entrada no válida. Asegúrese de ingresar números cuando corresponda. (Translation: Invalid input. Please ensure you are entering numbers where appropriate.)\")\n",
    "\n",
    "def handle_call_category(call_category):\n",
    "    ''' handle mango farmer call category '''\n",
    "    if call_category == \"mango_farmer\":\n",
    "        data = collect_mango_farmer_data()\n",
    "        save_to_csv(data)\n",
    "        return \"Datos guardados exitosamente. Gracias por informar sobre su cosecha de mango. (Translation: Data saved successfully. Thank you for reporting your mango harvest.)\"\n",
    "    else:\n",
    "        return \"Entrada no reconocida. Llamada terminada. (Translation: Unrecognized input. Call terminated.)\"\n",
    "\n",
    "def save_to_csv(data):\n",
    "    ''' save mango farmer data to CSV '''\n",
    "    with open('mango_data.csv', mode='a', newline='') as file:\n",
    "        writer = csv.writer(file)\n",
    "        if file.tell() == 0:  # Add headers if the file is empty\n",
    "            writer.writerow([\"Bushels\", \"Price Per Bushel\", \"Harvest Quality\", \"Number of Workers\", \"Investigate\"])\n",
    "        writer.writerow(data)\n",
    "\n",
    "def process_call():\n",
    "    ''' process the call '''\n",
    "    phone_number = input(\"Por favor introduzca un número de teléfono: (Translation: Please enter a phone number:) \")\n",
    "    \n",
    "    if phone_number == \"555-555-5555\":\n",
    "        attempts = 0\n",
    "        while attempts < 3:  # Limit the number of attempts\n",
    "            spanish_input = input(\"Gracias por llamar a Mali Mango Farmers Inc. ¿Cuál es el motivo de su llamada? (Translation: Thank you for calling Mali Mango Farmers Inc. What is your reason for calling?) \")\n",
    "            english_response = translate_spanish_to_english(spanish_input)\n",
    "            input_tokens = english_response.lower().split()  # Simple tokenization\n",
    "\n",
    "            call_category = categorize_call(input_tokens)\n",
    "\n",
    "            if call_category == \"emergency\":\n",
    "                response = input(\"¿Está intentando comunicarse con la línea directa de salud infantil? ¿Sí o no? (Translation: Are you trying to reach the infant health hotline? Yes or no?) \").lower()\n",
    "                if response == \"si\":\n",
    "                    return \"El número de la línea directa de salud infantil es 333-333-3333. (Translation: The number for the infant health hotline is 333-333-3333.)\"\n",
    "                elif response == \"no\":\n",
    "                    attempts += 1\n",
    "                    continue  # Restart the sequence\n",
    "                else:\n",
    "                    print(\"Por favor responda con sí o no.\")\n",
    "                \n",
    "            elif call_category == \"music\":\n",
    "                response = input(\"¿Estás intentando comunicarte con la productora musical Mango Mali? ¿Sí o no? (Translation: Are you trying to reach the music production company Mango Mali? Yes or no?) \").lower()\n",
    "                if response == \"si\":\n",
    "                    return \"El número de Mango Mali es 444-444-4444. (Translation: The number for Mango Mali is 444-444-4444).\"\n",
    "                elif response == \"no\":\n",
    "                    attempts += 1\n",
    "                    continue  # Restart the sequence\n",
    "                else:\n",
    "                    print(\"Por favor responda con sí o no.\")\n",
    "                \n",
    "            elif call_category == \"mango_farmer\":\n",
    "                response = input(\"¿Es usted un agricultor de mangos? ¿Sí o no? (Translation: Are you a mango farmer? Yes or no?) \").lower()\n",
    "                if response == \"si\":\n",
    "                    return handle_call_category(call_category)\n",
    "                elif response == \"no\":\n",
    "                    attempts += 1\n",
    "                    continue  # Restart the sequence\n",
    "                else:\n",
    "                    print(\"Por favor responda con sí o no.\")\n",
    "            \n",
    "            print(\"Entrada no reconocida. Por favor inténtalo de nuevo. (Translation: Unrecognized input. Please try again.)\")\n",
    "            attempts += 1\n",
    "        \n",
    "        return \"Se alcanzó el máximo de intentos. Llamada terminada. (Translation: Max attempts reached. Call terminated.)\"\n",
    "\n",
    "    else:\n",
    "        print(\"El número al que llamas no está disponible. Por favor inténtalo de nuevo. (Translation: The number you are calling is not available. Please try again.)\")\n",
    "        return\n",
    "\n",
    "def main():\n",
    "    ''' simulate a call '''\n",
    "    print(\"Simulating a call...\")\n",
    "    result = process_call()\n",
    "    if result:\n",
    "        print(f\"Result: {result}\")\n",
    "\n",
    "if __name__ == \"__main__\":\n",
    "    main()"
   ]
  }
 ],
 "metadata": {
  "kernelspec": {
   "display_name": "Python 3 (ipykernel)",
   "language": "python",
   "name": "python3"
  },
  "language_info": {
   "codemirror_mode": {
    "name": "ipython",
    "version": 3
   },
   "file_extension": ".py",
   "mimetype": "text/x-python",
   "name": "python",
   "nbconvert_exporter": "python",
   "pygments_lexer": "ipython3",
   "version": "3.12.4"
  }
 },
 "nbformat": 4,
 "nbformat_minor": 5
}
