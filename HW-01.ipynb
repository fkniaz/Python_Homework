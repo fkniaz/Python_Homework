{
 "cells": [
  {
   "cell_type": "markdown",
   "metadata": {},
   "source": [
    "## Homework 1"
   ]
  },
  {
   "cell_type": "code",
   "execution_count": null,
   "metadata": {},
   "outputs": [],
   "source": [
    "1. What is a markdown cell in jupyter notebook and how do I change a cell from a markdown cell to a code cell? Use a markdown cell type for this answer."
   ]
  },
  {
   "cell_type": "markdown",
   "metadata": {},
   "source": [
    "A markdown cell is used to write text rather than code. To change a cell from a markdown cell to a code cell, you can select the dropdown that says \"Markdown\" or \"Code\" on the top toolbar."
   ]
  },
  {
   "cell_type": "markdown",
   "metadata": {},
   "source": [
    "2. In Python, what is the difference between =(single equal) and == (double equal)? Please give an example of each."
   ]
  },
  {
   "cell_type": "markdown",
   "metadata": {},
   "source": [
    "= is used to assign a value to a variable whereas == is used to check if two values are equal. "
   ]
  },
  {
   "cell_type": "code",
   "execution_count": 3,
   "metadata": {},
   "outputs": [
    {
     "name": "stdout",
     "output_type": "stream",
     "text": [
      "False\n"
     ]
    }
   ],
   "source": [
    "x = 10\n",
    "y = 5\n",
    "\n",
    "print(x == y)"
   ]
  },
  {
   "cell_type": "markdown",
   "metadata": {},
   "source": [
    "3. If I am commenting on my code in a cell, what are the two ways to do this in Python?"
   ]
  },
  {
   "cell_type": "code",
   "execution_count": 101,
   "metadata": {},
   "outputs": [
    {
     "data": {
      "text/plain": [
       "'\\nOr you can use triple quotes before and after the comments.\\n'"
      ]
     },
     "execution_count": 101,
     "metadata": {},
     "output_type": "execute_result"
    }
   ],
   "source": [
    "# Use the # symbol. \n",
    "\n",
    "'''\n",
    "Or you can use triple quotes before and after the comments.\n",
    "'''"
   ]
  },
  {
   "cell_type": "markdown",
   "metadata": {},
   "source": [
    "4. Assign your name, your Yale program, and your year of graduation equal to variables of your choosing. Then write a print statement using an \"f string\" that says \"Hello, my name is (name). I am in Yale's (program) and I hope to graduate in (year).\""
   ]
  },
  {
   "cell_type": "code",
   "execution_count": 9,
   "metadata": {},
   "outputs": [
    {
     "name": "stdout",
     "output_type": "stream",
     "text": [
      "Hello, my name is Fiona. I am in Yale's Political Science PhD program and I hope to graduate in 2028.\n"
     ]
    }
   ],
   "source": [
    "name = \"Fiona\"\n",
    "program = \"Political Science PhD\"\n",
    "year = \"2028\"\n",
    "\n",
    "print(f\"Hello, my name is {name}. I am in Yale's {program} program and I hope to graduate in {year}.\")"
   ]
  },
  {
   "cell_type": "markdown",
   "metadata": {},
   "source": [
    "5. Write the mathematical operators for the following using a markdown cell type and give a code example of each:\n",
    "\n",
    "For example: plus: + , 3 + 4\n",
    "\n",
    "minus: 3 - 4\n",
    "\n",
    "multiply: 3 * 4\n",
    "\n",
    "divide: 13 / 4 (includes fractions) OR 13 // 4 (integers only, excludes remainders)\n",
    "\n",
    "find the remainder of two numbers divided: 13 % 4\n",
    "\n",
    "square: (as in 3 squared is 9) 3 ** 2\n",
    "\n",
    "cube: (as in 2 cubed is 8) 2 ** 3\n",
    "\n",
    "greater than: x > y\n",
    "\n",
    "greater than or equal to: x >= y\n",
    "\n",
    "less than: x < y\n",
    "\n",
    "less than or equal to: x <= y"
   ]
  },
  {
   "cell_type": "markdown",
   "metadata": {},
   "source": [
    "6. What is the built-in Python function to determine the type of an object? Give four examples of using this function on four different object types."
   ]
  },
  {
   "cell_type": "code",
   "execution_count": 42,
   "metadata": {},
   "outputs": [
    {
     "name": "stdout",
     "output_type": "stream",
     "text": [
      "<class 'int'>\n"
     ]
    }
   ],
   "source": [
    "a = 10\n",
    "print(type(a))"
   ]
  },
  {
   "cell_type": "code",
   "execution_count": 44,
   "metadata": {},
   "outputs": [
    {
     "name": "stdout",
     "output_type": "stream",
     "text": [
      "<class 'str'>\n"
     ]
    }
   ],
   "source": [
    "b = \"Hello\"\n",
    "print(type(b))"
   ]
  },
  {
   "cell_type": "code",
   "execution_count": 50,
   "metadata": {},
   "outputs": [
    {
     "name": "stdout",
     "output_type": "stream",
     "text": [
      "<class 'list'>\n"
     ]
    }
   ],
   "source": [
    "c = [1, 2, 3]\n",
    "print(type(c))"
   ]
  },
  {
   "cell_type": "code",
   "execution_count": 48,
   "metadata": {},
   "outputs": [
    {
     "name": "stdout",
     "output_type": "stream",
     "text": [
      "<class 'dict'>\n"
     ]
    }
   ],
   "source": [
    "d = {\"name\": \"Fiona\", \"age\": 23}\n",
    "print(type(d))"
   ]
  },
  {
   "cell_type": "markdown",
   "metadata": {},
   "source": [
    "7. Use the \"replace\" method in python so that the following occurs:\n",
    "\n",
    "greeting = \"Hello there students!\"\n",
    "becomes\n",
    "print(greeting)\n",
    "output: \"Hello there Pythonistas!\""
   ]
  },
  {
   "cell_type": "code",
   "execution_count": 60,
   "metadata": {},
   "outputs": [
    {
     "name": "stdout",
     "output_type": "stream",
     "text": [
      "Hello there Pythonistas!\n"
     ]
    }
   ],
   "source": [
    "greeting = \"Hello there students!\"\n",
    "greeting = greeting.replace(\"students\", \"Pythonistas\")\n",
    "print(greeting)"
   ]
  },
  {
   "cell_type": "markdown",
   "metadata": {},
   "source": [
    "8.In the following code:\n",
    "agreement = \"Paris Agreement\" \n",
    "agreement.replace(\"Paris\", \"Moon\") \n",
    "print(agreement)\n",
    "\n",
    "The output is \"Paris Agreement\", not \"Moon Agreement\"\n",
    "\n",
    "Please explain why that is the case. \n"
   ]
  },
  {
   "cell_type": "markdown",
   "metadata": {},
   "source": [
    "The coder did not set agreement.replace(\"Paris\", \"Moon\") equal to agreement. agreement = agreement.replace(\"Paris\", \"Moon\"). This should also be a separate line of code from agreement = \"Paris Agreement\"."
   ]
  },
  {
   "cell_type": "markdown",
   "metadata": {},
   "source": [
    "9. Now fix the code using the replace method so that:\n",
    "   agreement = \"Paris Agreement\"\n",
    "   when you write:\n",
    "   print(agreement)\n",
    "   output is \"Moon Agreement\""
   ]
  },
  {
   "cell_type": "markdown",
   "metadata": {},
   "source": [
    "Your answer here: "
   ]
  },
  {
   "cell_type": "markdown",
   "metadata": {},
   "source": [
    "10. Please explain why the statement returns \"False\" and write code that fixes the error:\n",
    "\n",
    ".3 + .3 + .3 == .9"
   ]
  },
  {
   "cell_type": "markdown",
   "metadata": {},
   "source": [
    "The statement returns \"False\" because some decimal fractions cannot be represented exactly in binary. You can use the math.isclose() function from the math module to compare numbers with decimals with a tolerance for precision errors."
   ]
  },
  {
   "cell_type": "code",
   "execution_count": 77,
   "metadata": {},
   "outputs": [
    {
     "name": "stdout",
     "output_type": "stream",
     "text": [
      "True\n"
     ]
    }
   ],
   "source": [
    "import math\n",
    "\n",
    "result = .3 + .3 + .3\n",
    "expected = .9\n",
    "print(math.isclose(result, expected))"
   ]
  },
  {
   "cell_type": "markdown",
   "metadata": {},
   "source": [
    "11. I want to make a tip calculator. Step one:\n",
    "Please use the input method to accept an input from a user prompting them with \"Please enter a price of the meal\" and save\n",
    " it to the variable \"price\""
   ]
  },
  {
   "cell_type": "code",
   "execution_count": 1,
   "metadata": {},
   "outputs": [
    {
     "name": "stdin",
     "output_type": "stream",
     "text": [
      "Please enter the price of the meal:  16\n"
     ]
    }
   ],
   "source": [
    "price = input(\"Please enter the price of the meal: \")"
   ]
  },
  {
   "cell_type": "markdown",
   "metadata": {},
   "source": [
    "12. Here is a script I wrote for a tip calculator:\n",
    "                        \n",
    "price = input(\"Please enter the price of the meal: \" )\n",
    "\n",
    "tip = price * 0.22\n",
    "\n",
    "total = price + tip\n",
    "\n",
    "print(\"A 16% tip would be: \", tip)\n",
    "\n",
    "print(\"The total including tip would be: \", total)\n",
    "\n",
    "The problem is it throws an error! Can you look at this code and see why it is throwing an error without running it? "
   ]
  },
  {
   "cell_type": "markdown",
   "metadata": {},
   "source": [
    "The input() function returns the user input as a string. You need to convert this string to a float before performing arithmetic operations."
   ]
  },
  {
   "cell_type": "markdown",
   "metadata": {},
   "source": [
    "13. Please fix the above code and run it:"
   ]
  },
  {
   "cell_type": "code",
   "execution_count": 3,
   "metadata": {},
   "outputs": [
    {
     "name": "stdin",
     "output_type": "stream",
     "text": [
      "Please enter the price of the meal:  16\n"
     ]
    },
    {
     "name": "stdout",
     "output_type": "stream",
     "text": [
      "A 22% tip would be:  3.52\n",
      "The total including tip would be:  19.52\n"
     ]
    }
   ],
   "source": [
    "price = float(input(\"Please enter the price of the meal: \"))\n",
    "\n",
    "# Calculate the tip and total\n",
    "tip = price * 0.22\n",
    "total = price + tip\n",
    "\n",
    "# Print the results\n",
    "print(\"A 22% tip would be: \", tip)\n",
    "print(\"The total including tip would be: \", total)"
   ]
  },
  {
   "cell_type": "markdown",
   "metadata": {},
   "source": [
    "14. Write a script that takes a user inputted string and checks whether if they are the following\n",
    "\n",
    "if it is all alphabets\n",
    "if it is numeric\n",
    "if it is all upper case\n",
    "if it is all lower case"
   ]
  },
  {
   "cell_type": "code",
   "execution_count": 105,
   "metadata": {},
   "outputs": [
    {
     "name": "stdout",
     "output_type": "stream",
     "text": [
      "Is all alphabets: True\n",
      "Is numeric: False\n",
      "Is all upper case: False\n",
      "Is all lower case: True\n"
     ]
    }
   ],
   "source": [
    "string_input = \"hello\"\n",
    "\n",
    "# Check if the input is all alphabets\n",
    "is_all_alpha = string_input.isalpha()\n",
    "print(\"Is all alphabets:\", is_all_alpha)\n",
    "\n",
    "# Check if the input is numeric\n",
    "is_numeric = string_input.isdigit()\n",
    "print(\"Is numeric:\", is_numeric)\n",
    "\n",
    "# Check if the input is all upper case\n",
    "is_all_upper = string_input.isupper()\n",
    "print(\"Is all upper case:\", is_all_upper)\n",
    "\n",
    "# Check if the input is all lower case\n",
    "is_all_lower = string_input.islower()\n",
    "print(\"Is all lower case:\", is_all_lower)"
   ]
  },
  {
   "cell_type": "markdown",
   "metadata": {},
   "source": [
    "15. Write a script that takes a user inputted target_string of your chosing and prints it out in the following three formats.\n",
    "\n",
    "All letters capitalized - capitalize( )\n",
    "All letters lowercase - lower( )\n",
    "All vowels lowercase and all consonants uppercase "
   ]
  },
  {
   "cell_type": "code",
   "execution_count": 17,
   "metadata": {},
   "outputs": [
    {
     "name": "stdout",
     "output_type": "stream",
     "text": [
      "HELLO\n",
      "hello\n",
      "HeLLo\n"
     ]
    }
   ],
   "source": [
    "target_string = \"Hello\"\n",
    "\n",
    "# All letters capitalized\n",
    "print(target_string.upper())\n",
    "\n",
    "# All letters lowercase\n",
    "print(target_string.lower())\n",
    "\n",
    "# All vowels lowercase and all consonants uppercase\n",
    "consonants_upper = target_string.upper()\n",
    "vowels_lower = target_string.translate(str.maketrans(\"AEIOU\", \"aeiou\")).translate(str.maketrans(\"aeiou\", \"aeiou\"))\n",
    "final_string = consonants_upper.translate(str.maketrans(\"AEIOU\", \"aeiou\"))\n",
    "\n",
    "print(final_string)"
   ]
  },
  {
   "cell_type": "markdown",
   "metadata": {},
   "source": [
    "16. Assuming a package is not part of the Anaconda build of Python used, how would I:\n",
    "a. install a package from my terminal?\n",
    "b. install a package from my Jupyter notebook ?\n",
    "c. import a package ? \n",
    "d. what happens when if I write \"import this\" but don't name a package? (run it below)"
   ]
  },
  {
   "cell_type": "code",
   "execution_count": null,
   "metadata": {},
   "outputs": [],
   "source": [
    "#Your code here:\n",
    "#a.\n",
    "#b.\n",
    "#c. \n",
    "#d.\n",
    "import this"
   ]
  },
  {
   "cell_type": "markdown",
   "metadata": {},
   "source": [
    "17.statement= 'It's truly one of my favorite quotes: \"Success depends on intuition, on seeing what afterwards proves to be true but cannot be established at the moment\"\n",
    "#To whom is the previous quote atributed?"
   ]
  },
  {
   "cell_type": "markdown",
   "metadata": {},
   "source": [
    "Your answer here: Joseph Schumpeter"
   ]
  },
  {
   "cell_type": "markdown",
   "metadata": {},
   "source": [
    "18. Copy the code above to the cell below. Run it. Why is it throwing an error? Please fix it."
   ]
  },
  {
   "cell_type": "code",
   "execution_count": 21,
   "metadata": {},
   "outputs": [
    {
     "name": "stdout",
     "output_type": "stream",
     "text": [
      "It's truly one of my favorite quotes: \"Success depends on intuition, on seeing what afterwards proves to be true but cannot be established at the moment\"\n"
     ]
    }
   ],
   "source": [
    "#Your answer here: The string includes both single and double quotes.\n",
    "\n",
    "#Your code here:\n",
    "statement = '''It's truly one of my favorite quotes: \"Success depends on intuition, on seeing what afterwards proves to be true but cannot be established at the moment\"'''\n",
    "\n",
    "print(statement)"
   ]
  },
  {
   "cell_type": "markdown",
   "metadata": {},
   "source": [
    "19. Write code, using the strip() method  to remove the white spaces from the beginning and the end of the following and print below:\n",
    "\n"
   ]
  },
  {
   "cell_type": "code",
   "execution_count": 23,
   "metadata": {},
   "outputs": [
    {
     "name": "stdout",
     "output_type": "stream",
     "text": [
      "Hi students. What's going on?!\n"
     ]
    }
   ],
   "source": [
    "greeting = \"   Hi students. What's going on?!       \"\n",
    "\n",
    "# You answer here: \n",
    "print(greeting.strip())"
   ]
  },
  {
   "cell_type": "markdown",
   "metadata": {},
   "source": [
    "20. (2pt) How do you convert a string to all lowercase? Give an example."
   ]
  },
  {
   "cell_type": "code",
   "execution_count": 29,
   "metadata": {},
   "outputs": [
    {
     "name": "stdout",
     "output_type": "stream",
     "text": [
      "hi, my name is fiona.\n"
     ]
    }
   ],
   "source": [
    "string = \"Hi, my name is Fiona.\"\n",
    "\n",
    "lower_string = string.lower()\n",
    "\n",
    "print(lower_string)"
   ]
  },
  {
   "cell_type": "markdown",
   "metadata": {},
   "source": [
    "21. (2pt)How do you convert a string to a list in python? Give an example."
   ]
  },
  {
   "cell_type": "code",
   "execution_count": 3,
   "metadata": {},
   "outputs": [],
   "source": [
    "# Your answer here: "
   ]
  },
  {
   "cell_type": "markdown",
   "metadata": {},
   "source": [
    "22. (2pt) How do you convert a string to a tuple in python? Give an example."
   ]
  },
  {
   "cell_type": "code",
   "execution_count": 4,
   "metadata": {},
   "outputs": [],
   "source": [
    "# Your answer here: "
   ]
  },
  {
   "cell_type": "markdown",
   "metadata": {},
   "source": [
    "23. (2pt) How do you convert a string to an int in python? Give an example."
   ]
  },
  {
   "cell_type": "code",
   "execution_count": 31,
   "metadata": {},
   "outputs": [
    {
     "name": "stdout",
     "output_type": "stream",
     "text": [
      "1234\n"
     ]
    }
   ],
   "source": [
    "numeric_string = \"1234\"\n",
    "\n",
    "integer = int(numeric_string)\n",
    "\n",
    "print(integer)"
   ]
  },
  {
   "cell_type": "markdown",
   "metadata": {},
   "source": [
    "24. (2pt) How do you convert a string to a float in python? Give an example."
   ]
  },
  {
   "cell_type": "code",
   "execution_count": 33,
   "metadata": {},
   "outputs": [
    {
     "name": "stdout",
     "output_type": "stream",
     "text": [
      "1234.0\n"
     ]
    }
   ],
   "source": [
    "numeric_string = \"1234\"\n",
    "\n",
    "float = float(numeric_string)\n",
    "\n",
    "print(float)"
   ]
  },
  {
   "cell_type": "markdown",
   "metadata": {},
   "source": [
    "25. (2pt) What are Python's dictionaries? Give an example of a great use for dictionaries.Give an example."
   ]
  },
  {
   "cell_type": "code",
   "execution_count": 7,
   "metadata": {},
   "outputs": [],
   "source": [
    "# Your answer here: "
   ]
  },
  {
   "cell_type": "markdown",
   "metadata": {},
   "source": [
    "26. (2pt) Create a dictionary with keys and values. Give an example."
   ]
  },
  {
   "cell_type": "code",
   "execution_count": 8,
   "metadata": {},
   "outputs": [],
   "source": [
    "# Your answer here: "
   ]
  },
  {
   "cell_type": "markdown",
   "metadata": {},
   "source": [
    "27. (2pt) How do you get all the values from the dictionary? Give an example."
   ]
  },
  {
   "cell_type": "code",
   "execution_count": 9,
   "metadata": {},
   "outputs": [],
   "source": [
    "# Your answer here: "
   ]
  },
  {
   "cell_type": "markdown",
   "metadata": {},
   "source": [
    "28. (2pt) How do you get all the keys from the dictionary? Give an example."
   ]
  },
  {
   "cell_type": "code",
   "execution_count": 10,
   "metadata": {},
   "outputs": [],
   "source": [
    "# Your answer here: "
   ]
  },
  {
   "cell_type": "markdown",
   "metadata": {},
   "source": [
    "29. (2pt) How do you capitalizes first letter of string? Give an example."
   ]
  },
  {
   "cell_type": "code",
   "execution_count": 107,
   "metadata": {},
   "outputs": [
    {
     "name": "stdout",
     "output_type": "stream",
     "text": [
      "Hello\n"
     ]
    }
   ],
   "source": [
    "# Reminder: string_input = \"hello\"\n",
    "\n",
    "capital_string = string_input.capitalize()\n",
    "\n",
    "print(capital_string)"
   ]
  },
  {
   "cell_type": "markdown",
   "metadata": {},
   "source": [
    "30. (2pt) How do you check in a string that all characters are digits? Give an example.\n"
   ]
  },
  {
   "cell_type": "code",
   "execution_count": 112,
   "metadata": {},
   "outputs": [
    {
     "name": "stdout",
     "output_type": "stream",
     "text": [
      "False\n"
     ]
    }
   ],
   "source": [
    "print(string_input.isdigit())"
   ]
  },
  {
   "cell_type": "markdown",
   "metadata": {},
   "source": [
    "31. (2pt) How do you check in a string that all characters are alphanumeric? Give an example."
   ]
  },
  {
   "cell_type": "code",
   "execution_count": 71,
   "metadata": {},
   "outputs": [
    {
     "name": "stdout",
     "output_type": "stream",
     "text": [
      "True\n"
     ]
    }
   ],
   "source": [
    "print(string_input.isalpha())"
   ]
  },
  {
   "cell_type": "markdown",
   "metadata": {},
   "source": [
    "32. (2pt) How do you check in a string that all characters are in lowercase? Give an example."
   ]
  },
  {
   "cell_type": "code",
   "execution_count": 114,
   "metadata": {},
   "outputs": [
    {
     "name": "stdout",
     "output_type": "stream",
     "text": [
      "True\n"
     ]
    }
   ],
   "source": [
    "print(string_input.islower()) "
   ]
  },
  {
   "cell_type": "markdown",
   "metadata": {},
   "source": [
    "33. (2pt) How do you check in a string that all characters are not numbers. Give an example."
   ]
  },
  {
   "cell_type": "code",
   "execution_count": 116,
   "metadata": {},
   "outputs": [
    {
     "name": "stdout",
     "output_type": "stream",
     "text": [
      "The string contains numbers.\n"
     ]
    }
   ],
   "source": [
    "string_numcheck = \"Hello123\"\n",
    "\n",
    "if all(not char.isdigit() for char in string_numcheck):\n",
    "    print(\"All characters are not numbers.\")\n",
    "else:\n",
    "    print(\"The string contains numbers.\")"
   ]
  },
  {
   "cell_type": "markdown",
   "metadata": {},
   "source": [
    "33. (2pt) How do you get the length of the string? Give an example."
   ]
  },
  {
   "cell_type": "code",
   "execution_count": 75,
   "metadata": {},
   "outputs": [
    {
     "data": {
      "text/plain": [
       "5"
      ]
     },
     "execution_count": 75,
     "metadata": {},
     "output_type": "execute_result"
    }
   ],
   "source": [
    "# Reminder: string_input = \"Hello\"\n",
    "\n",
    "len(string_input)"
   ]
  },
  {
   "cell_type": "markdown",
   "metadata": {},
   "source": [
    "34. (2pt) How do you convert a string to all lowercase? Give an example."
   ]
  },
  {
   "cell_type": "code",
   "execution_count": 118,
   "metadata": {},
   "outputs": [
    {
     "name": "stdout",
     "output_type": "stream",
     "text": [
      "hi, my name is fiona.\n"
     ]
    }
   ],
   "source": [
    "#Reminder: string = \"Hi, my name is Fiona.\"\n",
    "\n",
    "lower = string.lower()\n",
    "\n",
    "print(lower)"
   ]
  },
  {
   "cell_type": "markdown",
   "metadata": {},
   "source": [
    "35. (2pt) How do you remove all leading whitespace in string? Give an example."
   ]
  },
  {
   "cell_type": "code",
   "execution_count": 83,
   "metadata": {},
   "outputs": [
    {
     "name": "stdout",
     "output_type": "stream",
     "text": [
      "     Hello\n",
      "Hello\n"
     ]
    }
   ],
   "source": [
    "string_whitespace = \"     Hello\"\n",
    "print(string_whitespace)\n",
    "\n",
    "remove_whitespace = string_whitespace.strip()\n",
    "print(remove_whitespace)"
   ]
  },
  {
   "cell_type": "markdown",
   "metadata": {},
   "source": [
    "36. (2pt) What is the difference between del() and remove() methods of list? Give an example."
   ]
  },
  {
   "cell_type": "code",
   "execution_count": 19,
   "metadata": {},
   "outputs": [],
   "source": [
    "# Your answer here: "
   ]
  },
  {
   "cell_type": "markdown",
   "metadata": {},
   "source": [
    "37. (2pt) How do you get the index of an object in a list? Give an example."
   ]
  },
  {
   "cell_type": "code",
   "execution_count": 20,
   "metadata": {},
   "outputs": [],
   "source": [
    "# Your answer here: "
   ]
  },
  {
   "cell_type": "markdown",
   "metadata": {},
   "source": [
    "38. (2pt) How do you insert an object at given index in a list? Give an example."
   ]
  },
  {
   "cell_type": "code",
   "execution_count": 21,
   "metadata": {},
   "outputs": [],
   "source": [
    "# Your answer here: "
   ]
  },
  {
   "cell_type": "markdown",
   "metadata": {},
   "source": [
    "39. (2pt) How do you get the length of a list? Give an example."
   ]
  },
  {
   "cell_type": "code",
   "execution_count": 22,
   "metadata": {},
   "outputs": [],
   "source": [
    "# Your answer here: "
   ]
  },
  {
   "cell_type": "markdown",
   "metadata": {},
   "source": [
    "40. (2pt) How do you remove last object from a list?"
   ]
  },
  {
   "cell_type": "code",
   "execution_count": 23,
   "metadata": {},
   "outputs": [],
   "source": [
    "# Your answer here: "
   ]
  },
  {
   "cell_type": "markdown",
   "metadata": {},
   "source": [
    "41. (2pt) How do you reverse a list? Give an example."
   ]
  },
  {
   "cell_type": "code",
   "execution_count": 24,
   "metadata": {},
   "outputs": [],
   "source": [
    "# Your answer here: "
   ]
  },
  {
   "cell_type": "markdown",
   "metadata": {},
   "source": [
    "42. (2pt) How would you slice a list? Give an example."
   ]
  },
  {
   "cell_type": "code",
   "execution_count": 28,
   "metadata": {},
   "outputs": [],
   "source": [
    "# Your answer here: "
   ]
  },
  {
   "cell_type": "markdown",
   "metadata": {},
   "source": [
    "43. (10 pts) Iterate through a list and create a new list with only happy words. A happy is anything above the threshold. Print your happy word list without values (just words)."
   ]
  },
  {
   "cell_type": "code",
   "execution_count": 30,
   "metadata": {},
   "outputs": [],
   "source": [
    "threshold = 0.5\n",
    "feelings = [('blue', 0.1), ('melancholy',0.4), ('fine', 0.5 ), ('okay',0.5), ('overjoyed',1.0), ('blissful',0.9), ('chocolately',0.8)]\n",
    "# your code here:\n"
   ]
  },
  {
   "cell_type": "markdown",
   "metadata": {},
   "source": [
    "44. (5 pts) Take a user input that takes in a user's name, age.\n",
    "Create an f string that prints \"Hello \"name\", how does it feel to be \"age?\"\n",
    "Then create an answer that takes a random choice from your happy_word list, and print \"Gee, it feels \"answer\" to be \"age\". Thanks for asking!\"\n",
    "\n"
   ]
  },
  {
   "cell_type": "code",
   "execution_count": 32,
   "metadata": {
    "scrolled": true
   },
   "outputs": [],
   "source": [
    "# Your code here:"
   ]
  },
  {
   "cell_type": "markdown",
   "metadata": {},
   "source": [
    "45. (5 pts) Convert the following quote to a single string assigned to the variable Brzezinski, without numbers or special characters. Print the output. Make sure you add quotation marks to the beginning and end of the quote.\n"
   ]
  },
  {
   "cell_type": "code",
   "execution_count": 39,
   "metadata": {},
   "outputs": [],
   "source": [
    "quote = [[('Most Americans ^331 are close to total ignorance about the world. They are ignorant. That is an unhealthy condition in a country in which foreign policy has to be endorsed by the people 402 if it is to be pursued. And 404 it makes it much more difficult for any president to pursue an intelligent %%&* policy that does justice to the complexity of the world.')]]\n",
    "\n",
    "# Your code here:"
   ]
  },
  {
   "cell_type": "markdown",
   "metadata": {},
   "source": [
    "46. (1pts) There is a wikipedia package for Python! It makes it super easy to collect and parse entries. Install it and print a summary of the Marquis de Lafayette in French."
   ]
  },
  {
   "cell_type": "code",
   "execution_count": 35,
   "metadata": {},
   "outputs": [],
   "source": [
    "# Your code here:"
   ]
  },
  {
   "cell_type": "markdown",
   "metadata": {},
   "source": [
    "47. (4pts) Write a function that takes two arguments, name and hometown  and prints a statement that says, \"Well hello 'name', you must be from 'hometown' as an f string when called."
   ]
  },
  {
   "cell_type": "code",
   "execution_count": 36,
   "metadata": {},
   "outputs": [],
   "source": [
    "#Your code here:"
   ]
  },
  {
   "cell_type": "markdown",
   "metadata": {},
   "source": [
    "48. Write a script that takes an age as a user input and prints the following, based on conditions, using if, elif, and else:\n",
    "\n",
    "If the age is 1-18: print \"This individual is a minor. Their brain is still growing.\"\n",
    "If the age is 19-25: print. \"Though the brain may be done growing in size, it does not finish developing and maturing until the mid- to late 20s\"\n",
    "If the age is 26-40: \"Accomplish what you can before your brain rots!\"\n",
    "If the age is 41-100: \"Don't despair! For the first time, researchers have been able to identify superagers MRI images of the brains of superagers with an average age of 67 are remarkably similar to the brain of 25-year-olds.\"m"
   ]
  },
  {
   "cell_type": "code",
   "execution_count": 85,
   "metadata": {},
   "outputs": [
    {
     "name": "stdin",
     "output_type": "stream",
     "text": [
      "Please enter your age:  26\n"
     ]
    },
    {
     "name": "stdout",
     "output_type": "stream",
     "text": [
      "Accomplish what you can before your brain rots!\n"
     ]
    }
   ],
   "source": [
    "# Get user input for age\n",
    "age = int(input(\"Please enter your age: \"))\n",
    "\n",
    "# Determine and print the message based on age\n",
    "if 1 <= age <= 18:\n",
    "    print(\"This individual is a minor. Their brain is still growing.\")\n",
    "elif 19 <= age <= 25:\n",
    "    print(\"Though the brain may be done growing in size, it does not finish developing and maturing until the mid- to late 20s.\")\n",
    "elif 26 <= age <= 40:\n",
    "    print(\"Accomplish what you can before your brain rots!\")\n",
    "elif 41 <= age <= 100:\n",
    "    print(\"Don't despair! For the first time, researchers have been able to identify superagers MRI images of the brains of superagers with an average age of 67 are remarkably similar to the brain of 25-year-olds.\")\n",
    "else:\n",
    "    print(\"Age not within the expected range.\")"
   ]
  },
  {
   "cell_type": "markdown",
   "metadata": {},
   "source": [
    "49. Write a while loop that counts down from 20 to \"blastoff\":\n",
    "\n",
    "hint: decrement each time using n = n -1 or using -=\n",
    "n = 20"
   ]
  },
  {
   "cell_type": "code",
   "execution_count": 87,
   "metadata": {},
   "outputs": [
    {
     "name": "stdout",
     "output_type": "stream",
     "text": [
      "20\n",
      "19\n",
      "18\n",
      "17\n",
      "16\n",
      "15\n",
      "14\n",
      "13\n",
      "12\n",
      "11\n",
      "10\n",
      "9\n",
      "8\n",
      "7\n",
      "6\n",
      "5\n",
      "4\n",
      "3\n",
      "2\n",
      "1\n",
      "blastoff\n"
     ]
    }
   ],
   "source": [
    "# Initialize the variable\n",
    "n = 20\n",
    "\n",
    "# While loop to count down\n",
    "while n > 0:\n",
    "    print(n)\n",
    "    n -= 1  # Decrement n by 1 each time\n",
    "\n",
    "# Print the final message\n",
    "print(\"blastoff\")"
   ]
  },
  {
   "cell_type": "code",
   "execution_count": 89,
   "metadata": {},
   "outputs": [],
   "source": [
    "50. #Write code, usting the strip method, to remove the unecessary characters, and add a space to print Jackson Python\n",
    "\n",
    "jackson_string = \"grrrrr....ughhhh..JacksonPython@@@!!!!\"\n"
   ]
  },
  {
   "cell_type": "code",
   "execution_count": 95,
   "metadata": {},
   "outputs": [
    {
     "name": "stdout",
     "output_type": "stream",
     "text": [
      "Jackson Python\n"
     ]
    }
   ],
   "source": [
    "# Define the characters to remove\n",
    "unwanted_chars = \"grrrrr....ughhhh..@@@!!!!\"\n",
    "\n",
    "# Strip unwanted characters from both ends\n",
    "cleaned_string = jackson_string.strip(unwanted_chars)\n",
    "\n",
    "# Insert a space between \"Jackson\" and \"Python\"\n",
    "space_string = cleaned_string[:7] + \" \" + cleaned_string[7:]\n",
    "\n",
    "print(space_string)"
   ]
  }
 ],
 "metadata": {
  "kernelspec": {
   "display_name": "Python 3 (ipykernel)",
   "language": "python",
   "name": "python3"
  },
  "language_info": {
   "codemirror_mode": {
    "name": "ipython",
    "version": 3
   },
   "file_extension": ".py",
   "mimetype": "text/x-python",
   "name": "python",
   "nbconvert_exporter": "python",
   "pygments_lexer": "ipython3",
   "version": "3.12.4"
  }
 },
 "nbformat": 4,
 "nbformat_minor": 4
}
